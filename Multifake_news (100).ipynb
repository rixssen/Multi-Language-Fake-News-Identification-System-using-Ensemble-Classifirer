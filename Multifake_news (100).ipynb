{
  "nbformat": 4,
  "nbformat_minor": 0,
  "metadata": {
    "colab": {
      "provenance": []
    },
    "kernelspec": {
      "name": "python3",
      "display_name": "Python 3"
    },
    "language_info": {
      "name": "python"
    }
  },
  "cells": [
    {
      "cell_type": "code",
      "source": [
        "from google.colab import drive\n",
        "drive.mount('/content/drive')"
      ],
      "metadata": {
        "colab": {
          "base_uri": "https://localhost:8080/"
        },
        "id": "Cbp3qENXJimb",
        "outputId": "28f50dcd-586f-4989-ac18-4fea15330b76"
      },
      "execution_count": 1,
      "outputs": [
        {
          "output_type": "stream",
          "name": "stdout",
          "text": [
            "Mounted at /content/drive\n"
          ]
        }
      ]
    },
    {
      "cell_type": "code",
      "source": [
        "!unzip /content/drive/MyDrive/news/bnlp_main.zip -d ."
      ],
      "metadata": {
        "colab": {
          "base_uri": "https://localhost:8080/"
        },
        "id": "JeI9RmR0cJxN",
        "outputId": "f8879d8b-6e69-430c-909b-7d6341e27f00"
      },
      "execution_count": 2,
      "outputs": [
        {
          "output_type": "stream",
          "name": "stdout",
          "text": [
            "Archive:  /content/drive/MyDrive/news/bnlp_main.zip\n",
            "   creating: ./bnlp_main/\n",
            "   creating: ./bnlp_main/.github/\n",
            "  inflating: ./bnlp_main/.github/stale.yml  \n",
            "   creating: ./bnlp_main/.github/workflows/\n",
            "  inflating: ./bnlp_main/.github/workflows/bnlp-publish-auto.yml  \n",
            "  inflating: ./bnlp_main/.github/workflows/build_and_test.yml  \n",
            "  inflating: ./bnlp_main/.gitignore  \n",
            "  inflating: ./bnlp_main/.pre-commit-config.yaml  \n",
            "   creating: ./bnlp_main/.vscode/\n",
            "  inflating: ./bnlp_main/.vscode/settings.json  \n",
            "   creating: ./bnlp_main/bnlp/\n",
            "   creating: ./bnlp_main/bnlp/cleantext/\n",
            "  inflating: ./bnlp_main/bnlp/cleantext/clean.py  \n",
            "  inflating: ./bnlp_main/bnlp/cleantext/constants.py  \n",
            " extracting: ./bnlp_main/bnlp/cleantext/__init__.py  \n",
            "   creating: ./bnlp_main/bnlp/corpus/\n",
            "  inflating: ./bnlp_main/bnlp/corpus/corpus.py  \n",
            "  inflating: ./bnlp_main/bnlp/corpus/_stopwords.py  \n",
            " extracting: ./bnlp_main/bnlp/corpus/__init__.py  \n",
            "   creating: ./bnlp_main/bnlp/embedding/\n",
            "  inflating: ./bnlp_main/bnlp/embedding/doc2vec.py  \n",
            "  inflating: ./bnlp_main/bnlp/embedding/fasttext.py  \n",
            "  inflating: ./bnlp_main/bnlp/embedding/glove.py  \n",
            "  inflating: ./bnlp_main/bnlp/embedding/word2vec.py  \n",
            " extracting: ./bnlp_main/bnlp/embedding/__init__.py  \n",
            "   creating: ./bnlp_main/bnlp/tokenizer/\n",
            "  inflating: ./bnlp_main/bnlp/tokenizer/basic.py  \n",
            "  inflating: ./bnlp_main/bnlp/tokenizer/nltk.py  \n",
            "  inflating: ./bnlp_main/bnlp/tokenizer/sentencepiece.py  \n",
            " extracting: ./bnlp_main/bnlp/tokenizer/__init__.py  \n",
            "   creating: ./bnlp_main/bnlp/token_classification/\n",
            "  inflating: ./bnlp_main/bnlp/token_classification/ner.py  \n",
            "  inflating: ./bnlp_main/bnlp/token_classification/pos.py  \n",
            "  inflating: ./bnlp_main/bnlp/token_classification/token_classification_trainer.py  \n",
            " extracting: ./bnlp_main/bnlp/token_classification/__init__.py  \n",
            "   creating: ./bnlp_main/bnlp/utils/\n",
            "  inflating: ./bnlp_main/bnlp/utils/config.py  \n",
            "  inflating: ./bnlp_main/bnlp/utils/downloader.py  \n",
            "  inflating: ./bnlp_main/bnlp/utils/utils.py  \n",
            " extracting: ./bnlp_main/bnlp/utils/__init__.py  \n",
            "  inflating: ./bnlp_main/bnlp/__init__.py  \n",
            "  inflating: ./bnlp_main/bnlp.svg    \n",
            "  inflating: ./bnlp_main/CONTRIBUTING.md  \n",
            "   creating: ./bnlp_main/docs/\n",
            "   creating: ./bnlp_main/docs/archive/\n",
            "  inflating: ./bnlp_main/docs/archive/doc_v1.0.0.md  \n",
            "  inflating: ./bnlp_main/docs/archive/doc_v1.2.0.md  \n",
            "  inflating: ./bnlp_main/docs/archive/doc_v2.3.0.md  \n",
            "  inflating: ./bnlp_main/docs/archive/doc_v3.3.2.md  \n",
            "  inflating: ./bnlp_main/docs/archive/README.md  \n",
            "  inflating: ./bnlp_main/docs/index.rst  \n",
            "  inflating: ./bnlp_main/docs/README.md  \n",
            "  inflating: ./bnlp_main/LICENSE     \n",
            "   creating: ./bnlp_main/model/\n",
            "  inflating: ./bnlp_main/model/bn_ner.pkl  \n",
            "  inflating: ./bnlp_main/model/bn_pos.pkl  \n",
            "  inflating: ./bnlp_main/model/bn_spm.model  \n",
            "  inflating: ./bnlp_main/model/bn_spm.vocab  \n",
            "   creating: ./bnlp_main/notebook/\n",
            "  inflating: ./bnlp_main/notebook/bnlp_colab_testing.ipynb  \n",
            "  inflating: ./bnlp_main/notebook/bnlp_colab_training.ipynb  \n",
            "  inflating: ./bnlp_main/README.md   \n",
            "  inflating: ./bnlp_main/requirements.txt  \n",
            "  inflating: ./bnlp_main/setup.py    \n",
            "   creating: ./bnlp_main/tests/\n",
            "   creating: ./bnlp_main/tests/embedding/\n",
            "  inflating: ./bnlp_main/tests/embedding/test_docvec.py  \n",
            "  inflating: ./bnlp_main/tests/embedding/test_fasttext.py  \n",
            "  inflating: ./bnlp_main/tests/embedding/test_glove.py  \n",
            "  inflating: ./bnlp_main/tests/embedding/test_word2vec.py  \n",
            "   creating: ./bnlp_main/tests/tokenizer/\n",
            "  inflating: ./bnlp_main/tests/tokenizer/test_basic_tokenizer.py  \n",
            "  inflating: ./bnlp_main/tests/tokenizer/test_nltk_tokenizer.py  \n",
            "  inflating: ./bnlp_main/tests/tokenizer/test_sentencepiece_tokenizer.py  \n",
            "   creating: ./bnlp_main/tests/token_classification/\n",
            "  inflating: ./bnlp_main/tests/token_classification/test_ner.py  \n",
            "  inflating: ./bnlp_main/tests/token_classification/test_pos.py  \n"
          ]
        }
      ]
    },
    {
      "cell_type": "markdown",
      "source": [
        "## English"
      ],
      "metadata": {
        "id": "IUuAhoVGljxJ"
      }
    },
    {
      "cell_type": "code",
      "execution_count": 3,
      "metadata": {
        "id": "BvOnUeyu14l1"
      },
      "outputs": [],
      "source": [
        "import numpy as np\n",
        "import pandas as pd\n",
        "from sklearn.metrics import confusion_matrix\n",
        "import seaborn as sns\n",
        "import joblib\n",
        "import matplotlib.pyplot as plt\n",
        "import pickle"
      ]
    },
    {
      "cell_type": "code",
      "source": [
        "data1 = pd.read_csv(\"drive/MyDrive/news/english/True.csv\")\n",
        "data2 = pd.read_csv(\"drive/MyDrive/news/english/Fake.csv\")\n",
        "data = pd.concat([data1, data2]).reset_index(drop=True)\n",
        "data"
      ],
      "metadata": {
        "colab": {
          "base_uri": "https://localhost:8080/",
          "height": 424
        },
        "id": "blylIypxJ82D",
        "outputId": "c37e2049-d64e-4dde-cbb2-b929679ae96c"
      },
      "execution_count": 3,
      "outputs": [
        {
          "output_type": "execute_result",
          "data": {
            "text/plain": [
              "                                                   title  \\\n",
              "0      As U.S. budget fight looms, Republicans flip t...   \n",
              "1      U.S. military to accept transgender recruits o...   \n",
              "2      Senior U.S. Republican senator: 'Let Mr. Muell...   \n",
              "3      FBI Russia probe helped by Australian diplomat...   \n",
              "4      Trump wants Postal Service to charge 'much mor...   \n",
              "...                                                  ...   \n",
              "44893  McPain: John McCain Furious That Iran Treated ...   \n",
              "44894  JUSTICE? Yahoo Settles E-mail Privacy Class-ac...   \n",
              "44895  Sunnistan: US and Allied ‘Safe Zone’ Plan to T...   \n",
              "44896  How to Blow $700 Million: Al Jazeera America F...   \n",
              "44897  10 U.S. Navy Sailors Held by Iranian Military ...   \n",
              "\n",
              "                                                    text       subject  \\\n",
              "0      WASHINGTON (Reuters) - The head of a conservat...  politicsNews   \n",
              "1      WASHINGTON (Reuters) - Transgender people will...  politicsNews   \n",
              "2      WASHINGTON (Reuters) - The special counsel inv...  politicsNews   \n",
              "3      WASHINGTON (Reuters) - Trump campaign adviser ...  politicsNews   \n",
              "4      SEATTLE/WASHINGTON (Reuters) - President Donal...  politicsNews   \n",
              "...                                                  ...           ...   \n",
              "44893  21st Century Wire says As 21WIRE reported earl...   Middle-east   \n",
              "44894  21st Century Wire says It s a familiar theme. ...   Middle-east   \n",
              "44895  Patrick Henningsen  21st Century WireRemember ...   Middle-east   \n",
              "44896  21st Century Wire says Al Jazeera America will...   Middle-east   \n",
              "44897  21st Century Wire says As 21WIRE predicted in ...   Middle-east   \n",
              "\n",
              "                     date  \n",
              "0      December 31, 2017   \n",
              "1      December 29, 2017   \n",
              "2      December 31, 2017   \n",
              "3      December 30, 2017   \n",
              "4      December 29, 2017   \n",
              "...                   ...  \n",
              "44893    January 16, 2016  \n",
              "44894    January 16, 2016  \n",
              "44895    January 15, 2016  \n",
              "44896    January 14, 2016  \n",
              "44897    January 12, 2016  \n",
              "\n",
              "[44898 rows x 4 columns]"
            ],
            "text/html": [
              "\n",
              "  <div id=\"df-1544f85a-d0c8-4a7e-9504-6a15981aea2b\" class=\"colab-df-container\">\n",
              "    <div>\n",
              "<style scoped>\n",
              "    .dataframe tbody tr th:only-of-type {\n",
              "        vertical-align: middle;\n",
              "    }\n",
              "\n",
              "    .dataframe tbody tr th {\n",
              "        vertical-align: top;\n",
              "    }\n",
              "\n",
              "    .dataframe thead th {\n",
              "        text-align: right;\n",
              "    }\n",
              "</style>\n",
              "<table border=\"1\" class=\"dataframe\">\n",
              "  <thead>\n",
              "    <tr style=\"text-align: right;\">\n",
              "      <th></th>\n",
              "      <th>title</th>\n",
              "      <th>text</th>\n",
              "      <th>subject</th>\n",
              "      <th>date</th>\n",
              "    </tr>\n",
              "  </thead>\n",
              "  <tbody>\n",
              "    <tr>\n",
              "      <th>0</th>\n",
              "      <td>As U.S. budget fight looms, Republicans flip t...</td>\n",
              "      <td>WASHINGTON (Reuters) - The head of a conservat...</td>\n",
              "      <td>politicsNews</td>\n",
              "      <td>December 31, 2017</td>\n",
              "    </tr>\n",
              "    <tr>\n",
              "      <th>1</th>\n",
              "      <td>U.S. military to accept transgender recruits o...</td>\n",
              "      <td>WASHINGTON (Reuters) - Transgender people will...</td>\n",
              "      <td>politicsNews</td>\n",
              "      <td>December 29, 2017</td>\n",
              "    </tr>\n",
              "    <tr>\n",
              "      <th>2</th>\n",
              "      <td>Senior U.S. Republican senator: 'Let Mr. Muell...</td>\n",
              "      <td>WASHINGTON (Reuters) - The special counsel inv...</td>\n",
              "      <td>politicsNews</td>\n",
              "      <td>December 31, 2017</td>\n",
              "    </tr>\n",
              "    <tr>\n",
              "      <th>3</th>\n",
              "      <td>FBI Russia probe helped by Australian diplomat...</td>\n",
              "      <td>WASHINGTON (Reuters) - Trump campaign adviser ...</td>\n",
              "      <td>politicsNews</td>\n",
              "      <td>December 30, 2017</td>\n",
              "    </tr>\n",
              "    <tr>\n",
              "      <th>4</th>\n",
              "      <td>Trump wants Postal Service to charge 'much mor...</td>\n",
              "      <td>SEATTLE/WASHINGTON (Reuters) - President Donal...</td>\n",
              "      <td>politicsNews</td>\n",
              "      <td>December 29, 2017</td>\n",
              "    </tr>\n",
              "    <tr>\n",
              "      <th>...</th>\n",
              "      <td>...</td>\n",
              "      <td>...</td>\n",
              "      <td>...</td>\n",
              "      <td>...</td>\n",
              "    </tr>\n",
              "    <tr>\n",
              "      <th>44893</th>\n",
              "      <td>McPain: John McCain Furious That Iran Treated ...</td>\n",
              "      <td>21st Century Wire says As 21WIRE reported earl...</td>\n",
              "      <td>Middle-east</td>\n",
              "      <td>January 16, 2016</td>\n",
              "    </tr>\n",
              "    <tr>\n",
              "      <th>44894</th>\n",
              "      <td>JUSTICE? Yahoo Settles E-mail Privacy Class-ac...</td>\n",
              "      <td>21st Century Wire says It s a familiar theme. ...</td>\n",
              "      <td>Middle-east</td>\n",
              "      <td>January 16, 2016</td>\n",
              "    </tr>\n",
              "    <tr>\n",
              "      <th>44895</th>\n",
              "      <td>Sunnistan: US and Allied ‘Safe Zone’ Plan to T...</td>\n",
              "      <td>Patrick Henningsen  21st Century WireRemember ...</td>\n",
              "      <td>Middle-east</td>\n",
              "      <td>January 15, 2016</td>\n",
              "    </tr>\n",
              "    <tr>\n",
              "      <th>44896</th>\n",
              "      <td>How to Blow $700 Million: Al Jazeera America F...</td>\n",
              "      <td>21st Century Wire says Al Jazeera America will...</td>\n",
              "      <td>Middle-east</td>\n",
              "      <td>January 14, 2016</td>\n",
              "    </tr>\n",
              "    <tr>\n",
              "      <th>44897</th>\n",
              "      <td>10 U.S. Navy Sailors Held by Iranian Military ...</td>\n",
              "      <td>21st Century Wire says As 21WIRE predicted in ...</td>\n",
              "      <td>Middle-east</td>\n",
              "      <td>January 12, 2016</td>\n",
              "    </tr>\n",
              "  </tbody>\n",
              "</table>\n",
              "<p>44898 rows × 4 columns</p>\n",
              "</div>\n",
              "    <div class=\"colab-df-buttons\">\n",
              "\n",
              "  <div class=\"colab-df-container\">\n",
              "    <button class=\"colab-df-convert\" onclick=\"convertToInteractive('df-1544f85a-d0c8-4a7e-9504-6a15981aea2b')\"\n",
              "            title=\"Convert this dataframe to an interactive table.\"\n",
              "            style=\"display:none;\">\n",
              "\n",
              "  <svg xmlns=\"http://www.w3.org/2000/svg\" height=\"24px\" viewBox=\"0 -960 960 960\">\n",
              "    <path d=\"M120-120v-720h720v720H120Zm60-500h600v-160H180v160Zm220 220h160v-160H400v160Zm0 220h160v-160H400v160ZM180-400h160v-160H180v160Zm440 0h160v-160H620v160ZM180-180h160v-160H180v160Zm440 0h160v-160H620v160Z\"/>\n",
              "  </svg>\n",
              "    </button>\n",
              "\n",
              "  <style>\n",
              "    .colab-df-container {\n",
              "      display:flex;\n",
              "      gap: 12px;\n",
              "    }\n",
              "\n",
              "    .colab-df-convert {\n",
              "      background-color: #E8F0FE;\n",
              "      border: none;\n",
              "      border-radius: 50%;\n",
              "      cursor: pointer;\n",
              "      display: none;\n",
              "      fill: #1967D2;\n",
              "      height: 32px;\n",
              "      padding: 0 0 0 0;\n",
              "      width: 32px;\n",
              "    }\n",
              "\n",
              "    .colab-df-convert:hover {\n",
              "      background-color: #E2EBFA;\n",
              "      box-shadow: 0px 1px 2px rgba(60, 64, 67, 0.3), 0px 1px 3px 1px rgba(60, 64, 67, 0.15);\n",
              "      fill: #174EA6;\n",
              "    }\n",
              "\n",
              "    .colab-df-buttons div {\n",
              "      margin-bottom: 4px;\n",
              "    }\n",
              "\n",
              "    [theme=dark] .colab-df-convert {\n",
              "      background-color: #3B4455;\n",
              "      fill: #D2E3FC;\n",
              "    }\n",
              "\n",
              "    [theme=dark] .colab-df-convert:hover {\n",
              "      background-color: #434B5C;\n",
              "      box-shadow: 0px 1px 3px 1px rgba(0, 0, 0, 0.15);\n",
              "      filter: drop-shadow(0px 1px 2px rgba(0, 0, 0, 0.3));\n",
              "      fill: #FFFFFF;\n",
              "    }\n",
              "  </style>\n",
              "\n",
              "    <script>\n",
              "      const buttonEl =\n",
              "        document.querySelector('#df-1544f85a-d0c8-4a7e-9504-6a15981aea2b button.colab-df-convert');\n",
              "      buttonEl.style.display =\n",
              "        google.colab.kernel.accessAllowed ? 'block' : 'none';\n",
              "\n",
              "      async function convertToInteractive(key) {\n",
              "        const element = document.querySelector('#df-1544f85a-d0c8-4a7e-9504-6a15981aea2b');\n",
              "        const dataTable =\n",
              "          await google.colab.kernel.invokeFunction('convertToInteractive',\n",
              "                                                    [key], {});\n",
              "        if (!dataTable) return;\n",
              "\n",
              "        const docLinkHtml = 'Like what you see? Visit the ' +\n",
              "          '<a target=\"_blank\" href=https://colab.research.google.com/notebooks/data_table.ipynb>data table notebook</a>'\n",
              "          + ' to learn more about interactive tables.';\n",
              "        element.innerHTML = '';\n",
              "        dataTable['output_type'] = 'display_data';\n",
              "        await google.colab.output.renderOutput(dataTable, element);\n",
              "        const docLink = document.createElement('div');\n",
              "        docLink.innerHTML = docLinkHtml;\n",
              "        element.appendChild(docLink);\n",
              "      }\n",
              "    </script>\n",
              "  </div>\n",
              "\n",
              "\n",
              "<div id=\"df-de55ff2e-ec5b-409b-b2c7-e0718aae8d5d\">\n",
              "  <button class=\"colab-df-quickchart\" onclick=\"quickchart('df-de55ff2e-ec5b-409b-b2c7-e0718aae8d5d')\"\n",
              "            title=\"Suggest charts\"\n",
              "            style=\"display:none;\">\n",
              "\n",
              "<svg xmlns=\"http://www.w3.org/2000/svg\" height=\"24px\"viewBox=\"0 0 24 24\"\n",
              "     width=\"24px\">\n",
              "    <g>\n",
              "        <path d=\"M19 3H5c-1.1 0-2 .9-2 2v14c0 1.1.9 2 2 2h14c1.1 0 2-.9 2-2V5c0-1.1-.9-2-2-2zM9 17H7v-7h2v7zm4 0h-2V7h2v10zm4 0h-2v-4h2v4z\"/>\n",
              "    </g>\n",
              "</svg>\n",
              "  </button>\n",
              "\n",
              "<style>\n",
              "  .colab-df-quickchart {\n",
              "      --bg-color: #E8F0FE;\n",
              "      --fill-color: #1967D2;\n",
              "      --hover-bg-color: #E2EBFA;\n",
              "      --hover-fill-color: #174EA6;\n",
              "      --disabled-fill-color: #AAA;\n",
              "      --disabled-bg-color: #DDD;\n",
              "  }\n",
              "\n",
              "  [theme=dark] .colab-df-quickchart {\n",
              "      --bg-color: #3B4455;\n",
              "      --fill-color: #D2E3FC;\n",
              "      --hover-bg-color: #434B5C;\n",
              "      --hover-fill-color: #FFFFFF;\n",
              "      --disabled-bg-color: #3B4455;\n",
              "      --disabled-fill-color: #666;\n",
              "  }\n",
              "\n",
              "  .colab-df-quickchart {\n",
              "    background-color: var(--bg-color);\n",
              "    border: none;\n",
              "    border-radius: 50%;\n",
              "    cursor: pointer;\n",
              "    display: none;\n",
              "    fill: var(--fill-color);\n",
              "    height: 32px;\n",
              "    padding: 0;\n",
              "    width: 32px;\n",
              "  }\n",
              "\n",
              "  .colab-df-quickchart:hover {\n",
              "    background-color: var(--hover-bg-color);\n",
              "    box-shadow: 0 1px 2px rgba(60, 64, 67, 0.3), 0 1px 3px 1px rgba(60, 64, 67, 0.15);\n",
              "    fill: var(--button-hover-fill-color);\n",
              "  }\n",
              "\n",
              "  .colab-df-quickchart-complete:disabled,\n",
              "  .colab-df-quickchart-complete:disabled:hover {\n",
              "    background-color: var(--disabled-bg-color);\n",
              "    fill: var(--disabled-fill-color);\n",
              "    box-shadow: none;\n",
              "  }\n",
              "\n",
              "  .colab-df-spinner {\n",
              "    border: 2px solid var(--fill-color);\n",
              "    border-color: transparent;\n",
              "    border-bottom-color: var(--fill-color);\n",
              "    animation:\n",
              "      spin 1s steps(1) infinite;\n",
              "  }\n",
              "\n",
              "  @keyframes spin {\n",
              "    0% {\n",
              "      border-color: transparent;\n",
              "      border-bottom-color: var(--fill-color);\n",
              "      border-left-color: var(--fill-color);\n",
              "    }\n",
              "    20% {\n",
              "      border-color: transparent;\n",
              "      border-left-color: var(--fill-color);\n",
              "      border-top-color: var(--fill-color);\n",
              "    }\n",
              "    30% {\n",
              "      border-color: transparent;\n",
              "      border-left-color: var(--fill-color);\n",
              "      border-top-color: var(--fill-color);\n",
              "      border-right-color: var(--fill-color);\n",
              "    }\n",
              "    40% {\n",
              "      border-color: transparent;\n",
              "      border-right-color: var(--fill-color);\n",
              "      border-top-color: var(--fill-color);\n",
              "    }\n",
              "    60% {\n",
              "      border-color: transparent;\n",
              "      border-right-color: var(--fill-color);\n",
              "    }\n",
              "    80% {\n",
              "      border-color: transparent;\n",
              "      border-right-color: var(--fill-color);\n",
              "      border-bottom-color: var(--fill-color);\n",
              "    }\n",
              "    90% {\n",
              "      border-color: transparent;\n",
              "      border-bottom-color: var(--fill-color);\n",
              "    }\n",
              "  }\n",
              "</style>\n",
              "\n",
              "  <script>\n",
              "    async function quickchart(key) {\n",
              "      const quickchartButtonEl =\n",
              "        document.querySelector('#' + key + ' button');\n",
              "      quickchartButtonEl.disabled = true;  // To prevent multiple clicks.\n",
              "      quickchartButtonEl.classList.add('colab-df-spinner');\n",
              "      try {\n",
              "        const charts = await google.colab.kernel.invokeFunction(\n",
              "            'suggestCharts', [key], {});\n",
              "      } catch (error) {\n",
              "        console.error('Error during call to suggestCharts:', error);\n",
              "      }\n",
              "      quickchartButtonEl.classList.remove('colab-df-spinner');\n",
              "      quickchartButtonEl.classList.add('colab-df-quickchart-complete');\n",
              "    }\n",
              "    (() => {\n",
              "      let quickchartButtonEl =\n",
              "        document.querySelector('#df-de55ff2e-ec5b-409b-b2c7-e0718aae8d5d button');\n",
              "      quickchartButtonEl.style.display =\n",
              "        google.colab.kernel.accessAllowed ? 'block' : 'none';\n",
              "    })();\n",
              "  </script>\n",
              "</div>\n",
              "\n",
              "  <div id=\"id_c794e790-bea6-4aa9-bd8d-0bd75cfea508\">\n",
              "    <style>\n",
              "      .colab-df-generate {\n",
              "        background-color: #E8F0FE;\n",
              "        border: none;\n",
              "        border-radius: 50%;\n",
              "        cursor: pointer;\n",
              "        display: none;\n",
              "        fill: #1967D2;\n",
              "        height: 32px;\n",
              "        padding: 0 0 0 0;\n",
              "        width: 32px;\n",
              "      }\n",
              "\n",
              "      .colab-df-generate:hover {\n",
              "        background-color: #E2EBFA;\n",
              "        box-shadow: 0px 1px 2px rgba(60, 64, 67, 0.3), 0px 1px 3px 1px rgba(60, 64, 67, 0.15);\n",
              "        fill: #174EA6;\n",
              "      }\n",
              "\n",
              "      [theme=dark] .colab-df-generate {\n",
              "        background-color: #3B4455;\n",
              "        fill: #D2E3FC;\n",
              "      }\n",
              "\n",
              "      [theme=dark] .colab-df-generate:hover {\n",
              "        background-color: #434B5C;\n",
              "        box-shadow: 0px 1px 3px 1px rgba(0, 0, 0, 0.15);\n",
              "        filter: drop-shadow(0px 1px 2px rgba(0, 0, 0, 0.3));\n",
              "        fill: #FFFFFF;\n",
              "      }\n",
              "    </style>\n",
              "    <button class=\"colab-df-generate\" onclick=\"generateWithVariable('data')\"\n",
              "            title=\"Generate code using this dataframe.\"\n",
              "            style=\"display:none;\">\n",
              "\n",
              "  <svg xmlns=\"http://www.w3.org/2000/svg\" height=\"24px\"viewBox=\"0 0 24 24\"\n",
              "       width=\"24px\">\n",
              "    <path d=\"M7,19H8.4L18.45,9,17,7.55,7,17.6ZM5,21V16.75L18.45,3.32a2,2,0,0,1,2.83,0l1.4,1.43a1.91,1.91,0,0,1,.58,1.4,1.91,1.91,0,0,1-.58,1.4L9.25,21ZM18.45,9,17,7.55Zm-12,3A5.31,5.31,0,0,0,4.9,8.1,5.31,5.31,0,0,0,1,6.5,5.31,5.31,0,0,0,4.9,4.9,5.31,5.31,0,0,0,6.5,1,5.31,5.31,0,0,0,8.1,4.9,5.31,5.31,0,0,0,12,6.5,5.46,5.46,0,0,0,6.5,12Z\"/>\n",
              "  </svg>\n",
              "    </button>\n",
              "    <script>\n",
              "      (() => {\n",
              "      const buttonEl =\n",
              "        document.querySelector('#id_c794e790-bea6-4aa9-bd8d-0bd75cfea508 button.colab-df-generate');\n",
              "      buttonEl.style.display =\n",
              "        google.colab.kernel.accessAllowed ? 'block' : 'none';\n",
              "\n",
              "      buttonEl.onclick = () => {\n",
              "        google.colab.notebook.generateWithVariable('data');\n",
              "      }\n",
              "      })();\n",
              "    </script>\n",
              "  </div>\n",
              "\n",
              "    </div>\n",
              "  </div>\n"
            ]
          },
          "metadata": {},
          "execution_count": 3
        }
      ]
    },
    {
      "cell_type": "code",
      "source": [
        "y = [1 for i in range(data1.shape[0])] + [0 for i in range(data2.shape[0])]\n",
        "y = pd.Series(y)\n",
        "y"
      ],
      "metadata": {
        "colab": {
          "base_uri": "https://localhost:8080/"
        },
        "id": "8UYiUiMpLezT",
        "outputId": "bbe86f92-5475-4bb6-dc47-50ae8bb1e49b"
      },
      "execution_count": 4,
      "outputs": [
        {
          "output_type": "execute_result",
          "data": {
            "text/plain": [
              "0        1\n",
              "1        1\n",
              "2        1\n",
              "3        1\n",
              "4        1\n",
              "        ..\n",
              "44893    0\n",
              "44894    0\n",
              "44895    0\n",
              "44896    0\n",
              "44897    0\n",
              "Length: 44898, dtype: int64"
            ]
          },
          "metadata": {},
          "execution_count": 4
        }
      ]
    },
    {
      "cell_type": "code",
      "source": [
        "def transform(c):\n",
        "    return c[\"title\"] + \" \" + c[\"text\"]\n",
        "data = data.apply(transform, axis=1)\n",
        "data"
      ],
      "metadata": {
        "colab": {
          "base_uri": "https://localhost:8080/"
        },
        "id": "bpKqyRJkLm_i",
        "outputId": "a93eac6c-9b75-4891-ac01-2cae4d474325"
      },
      "execution_count": 5,
      "outputs": [
        {
          "output_type": "execute_result",
          "data": {
            "text/plain": [
              "0        As U.S. budget fight looms, Republicans flip t...\n",
              "1        U.S. military to accept transgender recruits o...\n",
              "2        Senior U.S. Republican senator: 'Let Mr. Muell...\n",
              "3        FBI Russia probe helped by Australian diplomat...\n",
              "4        Trump wants Postal Service to charge 'much mor...\n",
              "                               ...                        \n",
              "44893    McPain: John McCain Furious That Iran Treated ...\n",
              "44894    JUSTICE? Yahoo Settles E-mail Privacy Class-ac...\n",
              "44895    Sunnistan: US and Allied ‘Safe Zone’ Plan to T...\n",
              "44896    How to Blow $700 Million: Al Jazeera America F...\n",
              "44897    10 U.S. Navy Sailors Held by Iranian Military ...\n",
              "Length: 44898, dtype: object"
            ]
          },
          "metadata": {},
          "execution_count": 5
        }
      ]
    },
    {
      "cell_type": "markdown",
      "source": [
        "Text Processing - Cleaning"
      ],
      "metadata": {
        "id": "KEMC_mFcM2LZ"
      }
    },
    {
      "cell_type": "code",
      "source": [
        "import nltk\n",
        "nltk.download('stopwords')\n",
        "nltk.download('wordnet')\n",
        "nltk.download('punkt')"
      ],
      "metadata": {
        "colab": {
          "base_uri": "https://localhost:8080/"
        },
        "id": "Gij5LIXKNMxC",
        "outputId": "c8dbcfdc-6413-472d-d462-6029ee3f4cdf"
      },
      "execution_count": 6,
      "outputs": [
        {
          "output_type": "stream",
          "name": "stderr",
          "text": [
            "[nltk_data] Downloading package stopwords to /root/nltk_data...\n",
            "[nltk_data]   Unzipping corpora/stopwords.zip.\n",
            "[nltk_data] Downloading package wordnet to /root/nltk_data...\n",
            "[nltk_data] Downloading package punkt to /root/nltk_data...\n",
            "[nltk_data]   Unzipping tokenizers/punkt.zip.\n"
          ]
        },
        {
          "output_type": "execute_result",
          "data": {
            "text/plain": [
              "True"
            ]
          },
          "metadata": {},
          "execution_count": 6
        }
      ]
    },
    {
      "cell_type": "code",
      "source": [
        "from nltk.tokenize import word_tokenize\n",
        "\n",
        "from nltk.stem.snowball import SnowballStemmer\n",
        "stemmer = SnowballStemmer(language=\"english\")\n",
        "\n",
        "from nltk.corpus import stopwords\n",
        "stop_words = set(stopwords.words('english'))\n",
        "\n",
        "import string\n",
        "punct = string.punctuation"
      ],
      "metadata": {
        "id": "kqg0-ed4M2tJ"
      },
      "execution_count": 7,
      "outputs": []
    },
    {
      "cell_type": "code",
      "source": [
        "def process(s):\n",
        "    for p in punct:\n",
        "        s = s.replace(p, '')\n",
        "    s = s.lower()\n",
        "    s = word_tokenize(s)\n",
        "    s = [w for w in s if not w in stop_words] #optional\n",
        "    s = [stemmer.stem(word) for word in s]\n",
        "    return s"
      ],
      "metadata": {
        "id": "7jG-MHMONuMI"
      },
      "execution_count": 8,
      "outputs": []
    },
    {
      "cell_type": "code",
      "source": [
        "number_of_samples = data.shape[0]\n",
        "\n",
        "from tqdm import tqdm\n",
        "\n",
        "for i in tqdm(range(number_of_samples)):\n",
        "    data[i] = process(data[i])"
      ],
      "metadata": {
        "id": "y_K7jRvjOgtB"
      },
      "execution_count": null,
      "outputs": []
    },
    {
      "cell_type": "code",
      "source": [
        "for i in tqdm(range(number_of_samples)):\n",
        "    data[i] = \" \".join(data[i])"
      ],
      "metadata": {
        "colab": {
          "base_uri": "https://localhost:8080/"
        },
        "id": "Mq-C7rKhOpW5",
        "outputId": "81eae6c3-e38a-4b9c-87fe-3c261f528ab3"
      },
      "execution_count": null,
      "outputs": [
        {
          "output_type": "stream",
          "name": "stderr",
          "text": [
            "100%|██████████| 44898/44898 [00:01<00:00, 44415.22it/s]\n"
          ]
        }
      ]
    },
    {
      "cell_type": "markdown",
      "source": [
        "Text Representation"
      ],
      "metadata": {
        "id": "aE-YvVhzOsNw"
      }
    },
    {
      "cell_type": "code",
      "source": [
        "from sklearn.feature_extraction.text import CountVectorizer, TfidfVectorizer\n",
        "eng_vec = CountVectorizer(max_features=5000)\n",
        "bow_data = eng_vec.fit_transform(data).toarray()\n",
        "features = eng_vec.get_feature_names_out()\n",
        "bow_data = pd.DataFrame(bow_data, columns=features)"
      ],
      "metadata": {
        "id": "mnSo5lbUO49x"
      },
      "execution_count": null,
      "outputs": []
    },
    {
      "cell_type": "code",
      "source": [
        "pickle.dump(eng_vec,open(\"/content/drive/MyDrive/news/eng/eng_vec.p\",\"wb\"))"
      ],
      "metadata": {
        "id": "fLTtUxbPZyna"
      },
      "execution_count": null,
      "outputs": []
    },
    {
      "cell_type": "markdown",
      "source": [
        "Training"
      ],
      "metadata": {
        "id": "uXf6AKG7PJtx"
      }
    },
    {
      "cell_type": "code",
      "source": [
        "from sklearn.naive_bayes import MultinomialNB\n",
        "nb = MultinomialNB()\n",
        "from sklearn.naive_bayes import BernoulliNB\n",
        "bnb = BernoulliNB()\n",
        "from sklearn.tree import DecisionTreeClassifier\n",
        "dt = DecisionTreeClassifier()\n",
        "from sklearn.linear_model import SGDClassifier\n",
        "sgd = SGDClassifier(loss=\"log\")\n",
        "from sklearn.ensemble import RandomForestClassifier\n",
        "rf = RandomForestClassifier()\n",
        "from sklearn.ensemble import VotingClassifier\n",
        "model = VotingClassifier(estimators=[('MultinomialNB', nb), ('BernoulliNB', bnb), ('DecisionTreeClassifier', dt),\n",
        "                                              ('SGDClassifier', sgd), ('RandomForestClassifier', rf)], voting='soft')"
      ],
      "metadata": {
        "id": "t0zH1VswPJGg"
      },
      "execution_count": null,
      "outputs": []
    },
    {
      "cell_type": "code",
      "source": [
        "from sklearn.model_selection import train_test_split\n",
        "from sklearn.metrics import classification_report\n",
        "\n",
        "xtrain, xtest, ytrain, ytest = train_test_split(bow_data, y, test_size=0.2)\n",
        "model.fit(xtrain, ytrain)\n",
        "ypred_ts = model.predict(xtest)\n",
        "print(\"Testing Results:\\n\")\n",
        "print(classification_report(ytest, ypred_ts, target_names=['FAKE', 'REAL']))"
      ],
      "metadata": {
        "colab": {
          "base_uri": "https://localhost:8080/"
        },
        "id": "1TACCxlAQAzw",
        "outputId": "d8e41ba6-003a-41a5-c4e1-8bc2899fb7ae"
      },
      "execution_count": null,
      "outputs": [
        {
          "output_type": "stream",
          "name": "stderr",
          "text": [
            "/usr/local/lib/python3.8/dist-packages/sklearn/linear_model/_stochastic_gradient.py:163: FutureWarning: The loss 'log' was deprecated in v1.1 and will be removed in version 1.3. Use `loss='log_loss'` which is equivalent.\n",
            "  warnings.warn(\n"
          ]
        },
        {
          "output_type": "stream",
          "name": "stdout",
          "text": [
            "Testing Results:\n",
            "\n",
            "              precision    recall  f1-score   support\n",
            "\n",
            "        FAKE       1.00      1.00      1.00      4743\n",
            "        REAL       1.00      1.00      1.00      4237\n",
            "\n",
            "    accuracy                           1.00      8980\n",
            "   macro avg       1.00      1.00      1.00      8980\n",
            "weighted avg       1.00      1.00      1.00      8980\n",
            "\n"
          ]
        }
      ]
    },
    {
      "cell_type": "code",
      "source": [
        "CM = confusion_matrix(ytest,ypred_ts)\n",
        "# drawing confusion matrix\n",
        "target_names=['FAKE', 'REAL']\n",
        "sns.heatmap(CM, center = True , annot=True, fmt=\"d\" ,cmap=\"Blues\", xticklabels=target_names, yticklabels=target_names)\n",
        "plt.show()"
      ],
      "metadata": {
        "colab": {
          "base_uri": "https://localhost:8080/",
          "height": 265
        },
        "id": "E6_TjrtTpARv",
        "outputId": "f4aaa101-3ddf-42b2-aad8-f3a0f4043e75"
      },
      "execution_count": null,
      "outputs": [
        {
          "output_type": "display_data",
          "data": {
            "text/plain": [
              "<Figure size 432x288 with 2 Axes>"
            ],
            "image/png": "[encoded data removed]"
          },
          "metadata": {
            "needs_background": "light"
          }
        }
      ]
    },
    {
      "cell_type": "code",
      "source": [
        "\n",
        "# Save the model as a pickle in a file\n",
        "joblib.dump(model, '/content/drive/MyDrive/news/english/english.pkl')"
      ],
      "metadata": {
        "colab": {
          "base_uri": "https://localhost:8080/"
        },
        "id": "iYqUDvJVQ03C",
        "outputId": "8571a04f-b5d0-4ed7-a170-5c0da4af57c9"
      },
      "execution_count": null,
      "outputs": [
        {
          "output_type": "execute_result",
          "data": {
            "text/plain": [
              "['/content/drive/MyDrive/news/english/english.pkl']"
            ]
          },
          "metadata": {},
          "execution_count": 14
        }
      ]
    },
    {
      "cell_type": "markdown",
      "source": [
        "Prediction"
      ],
      "metadata": {
        "id": "0paqyRHSfya7"
      }
    },
    {
      "cell_type": "code",
      "source": [
        "tinput = 'As U.S. budget fight looms, Republicans flip their fiscal script WASHINGTON (Reuters) - The head of a conservative Republican faction in the U.S. Congress, who voted this month for a huge expansion of the national debt to pay for tax cuts, called himself a â€œfiscal conservativeâ€ on Sunday and urged budget restraint in 2018. In keeping with a sharp pivot under way among Republicans, U.S. Representative Mark Meadows, speaking on CBSâ€™ â€œFace the Nation,â€ drew a hard line on federal spending, which lawmakers are bracing to do battle over in January. When they return from the holidays on Wednesday, lawmakers will begin trying to pass a federal budget in a fight likely to be linked to other issues, such as immigration policy, even as the November congressional election campaigns approach in which Republicans will seek to keep control of Congress. President Donald Trump and his Republicans want a big budget increase in military spending, while Democrats also want proportional increases for non-defense â€œdiscretionaryâ€ spending on programs that support education, scientific research, infrastructure, public health and environmental protection. â€œThe (Trump) administration has already been willing to say: â€˜Weâ€™re going to increase non-defense discretionary spending ... by about 7 percent,â€™â€ Meadows, chairman of the small but influential House Freedom Caucus, said on the program. â€œNow, Democrats are saying thatâ€™s not enough, we need to give the government a pay raise of 10 to 11 percent. For a fiscal conservative, I donâ€™t see where the rationale is. ... Eventually you run out of other peopleâ€™s money,â€ he said. Meadows was among Republicans who voted in late December for their partyâ€™s debt-financed tax overhaul, which is expected to balloon the federal budget deficit and add about $1.5 trillion over 10 years to the $20 trillion national debt. â€œItâ€™s interesting to hear Mark talk about fiscal responsibility,â€ Democratic U.S. Representative Joseph Crowley said on CBS. Crowley said the Republican tax bill would require the  United States to borrow $1.5 trillion, to be paid off by future generations, to finance tax cuts for corporations and the rich. â€œThis is one of the least ... fiscally responsible bills weâ€™ve ever seen passed in the history of the House of Representatives. I think weâ€™re going to be paying for this for many, many years to come,â€ Crowley said. Republicans insist the tax package, the biggest U.S. tax overhaul in more than 30 years,  will boost the economy and job growth. House Speaker Paul Ryan, who also supported the tax bill, recently went further than Meadows, making clear in a radio interview that welfare or â€œentitlement reform,â€ as the party often calls it, would be a top Republican priority in 2018. In Republican parlance, â€œentitlementâ€ programs mean food stamps, housing assistance, Medicare and Medicaid health insurance for the elderly, poor and disabled, as well as other programs created by Washington to assist the needy. Democrats seized on Ryanâ€™s early December remarks, saying they showed Republicans would try to pay for their tax overhaul by seeking spending cuts for social programs. But the goals of House Republicans may have to take a back seat to the Senate, where the votes of some Democrats will be needed to approve a budget and prevent a government shutdown. Democrats will use their leverage in the Senate, which Republicans narrowly control, to defend both discretionary non-defense programs and social spending, while tackling the issue of the â€œDreamers,â€ people brought illegally to the country as children. Trump in September put a March 2018 expiration date on the Deferred Action for Childhood Arrivals, or DACA, program, which protects the young immigrants from deportation and provides them with work permits. The president has said in recent Twitter messages he wants funding for his proposed Mexican border wall and other immigration law changes in exchange for agreeing to help the Dreamers. Representative Debbie Dingell told CBS she did not favor linking that issue to other policy objectives, such as wall funding. â€œWe need to do DACA clean,â€ she said.  On Wednesday, Trump aides will meet with congressional leaders to discuss those issues. That will be followed by a weekend of strategy sessions for Trump and Republican leaders on Jan. 6 and 7, the White House said. Trump was also scheduled to meet on Sunday with Florida Republican Governor Rick Scott, who wants more emergency aid. The House has passed an $81 billion aid package after hurricanes in Florida, Texas and Puerto Rico, and wildfires in California. The package far exceeded the $44 billion requested by the Trump administration. The Senate has not yet voted on the aid.'\n",
        "finput = 'Donald Trump Sends Out Embarrassing New Yearâ€™s Eve Message; This is Disturbing Donald Trump just couldn t wish all Americans a Happy New Year and leave it at that. Instead, he had to give a shout out to his enemies, haters and  the very dishonest fake news media.  The former reality show star had just one job to do and he couldn t do it. As our Country rapidly grows stronger and smarter, I want to wish all of my friends, supporters, enemies, haters, and even the very dishonest Fake News Media, a Happy and Healthy New Year,  President Angry Pants tweeted.  2018 will be a great year for America! As our Country rapidly grows stronger and smarter, I want to wish all of my friends, supporters, enemies, haters, and even the very dishonest Fake News Media, a Happy and Healthy New Year. 2018 will be a great year for America!  Donald J. Trump (@realDonaldTrump) December 31, 2017Trump s tweet went down about as welll as you d expect.What kind of president sends a New Year s greeting like this despicable, petty, infantile gibberish? Only Trump! His lack of decency won t even allow him to rise above the gutter long enough to wish the American citizens a happy new year!  Bishop Talbert Swan (@TalbertSwan) December 31, 2017no one likes you  Calvin (@calvinstowell) December 31, 2017Your impeachment would make 2018 a great year for America, but I ll also accept regaining control of Congress.  Miranda Yaver (@mirandayaver) December 31, 2017Do you hear yourself talk? When you have to include that many people that hate you you have to wonder? Why do the they all hate me?  Alan Sandoval (@AlanSandoval13) December 31, 2017Who uses the word Haters in a New Years wish??  Marlene (@marlene399) December 31, 2017You can t just say happy new year?  Koren pollitt (@Korencarpenter) December 31, 2017Here s Trump s New Year s Eve tweet from 2016.Happy New Year to all, including to my many enemies and those who have fought me and lost so badly they just don t know what to do. Love!  Donald J. Trump (@realDonaldTrump) December 31, 2016This is nothing new for Trump. He s been doing this for years.Trump has directed messages to his  enemies  and  haters  for New Year s, Easter, Thanksgiving, and the anniversary of 9/11. pic.twitter.com/4FPAe2KypA  Daniel Dale (@ddale8) December 31, 2017Trump s holiday tweets are clearly not presidential.How long did he work at Hallmark before becoming President?  Steven Goodine (@SGoodine) December 31, 2017He s always been like this . . . the only difference is that in the last few years, his filter has been breaking down.  Roy Schulze (@thbthttt) December 31, 2017Who, apart from a teenager uses the term haters?  Wendy (@WendyWhistles) December 31, 2017he s a fucking 5 year old  Who Knows (@rainyday80) December 31, 2017So, to all the people who voted for this a hole thinking he would change once he got into power, you were wrong! 70-year-old men don t change and now he s a year older.Photo by Andrew Burton/Getty Images.'\n",
        "input = process(finput)\n",
        "input = \" \".join(input)\n",
        "input = eng_vec.transform([input]).toarray()\n",
        "features = eng_vec.get_feature_names_out()\n",
        "input = pd.DataFrame(input, columns=features)\n",
        "weight_english = joblib.load(\"/content/drive/MyDrive/news/english/english.pkl\")\n",
        "pred = weight_english.predict(input)\n",
        "if pred[0] == 1:\n",
        "    print(\"Predicted news is True:\")\n",
        "else:\n",
        "    print(\"Predicted news is Fake:\")"
      ],
      "metadata": {
        "colab": {
          "base_uri": "https://localhost:8080/"
        },
        "id": "tgvkyRf6f0tK",
        "outputId": "ab04add7-278a-45c2-f42c-3027a92c34ec"
      },
      "execution_count": null,
      "outputs": [
        {
          "output_type": "stream",
          "name": "stdout",
          "text": [
            "Predicted news is Fake:\n"
          ]
        }
      ]
    },
    {
      "cell_type": "markdown",
      "source": [
        "## Hindi"
      ],
      "metadata": {
        "id": "nzL4Hv24lpbY"
      }
    },
    {
      "cell_type": "code",
      "source": [
        "import json\n",
        "import pandas as pd\n",
        "import re\n",
        "\n",
        "with open('drive/MyDrive/news/hindi/fake_news-all.json') as f:\n",
        "  fake_news = json.load(f)\n",
        "  #json to dataframe\n",
        "  fake_news = pd.json_normalize(fake_news,'fake_news')\n",
        "  f.close()\n",
        "\n",
        "with open('drive/MyDrive/news/hindi/true_news_all_dirty.json') as f:\n",
        "  true_news = json.load(f)\n",
        "  #json to dataframe\n",
        "  true_news = pd.json_normalize(true_news,'true_news')\n",
        "  f.close()"
      ],
      "metadata": {
        "id": "FypDtGtJr6vP"
      },
      "execution_count": null,
      "outputs": []
    },
    {
      "cell_type": "code",
      "source": [
        "true_news = true_news.rename(columns={'short_desc': 'short_description'})"
      ],
      "metadata": {
        "id": "NcnSx7Yaw6Wc"
      },
      "execution_count": null,
      "outputs": []
    },
    {
      "cell_type": "code",
      "source": [
        "# dropping unncessary columns\n",
        "true_news = true_news.drop(['full_title','long_description','name','url'],axis=1)\n",
        "fake_news = fake_news.drop(['full_title', 'long_description', 'url'],axis=1)"
      ],
      "metadata": {
        "id": "X0TmMjcMsUGd"
      },
      "execution_count": null,
      "outputs": []
    },
    {
      "cell_type": "code",
      "source": [
        "# removing null values\n",
        "fake_news = fake_news.dropna()\n",
        "true_news = true_news.dropna()"
      ],
      "metadata": {
        "id": "DwUTnH99srGn"
      },
      "execution_count": null,
      "outputs": []
    },
    {
      "cell_type": "markdown",
      "source": [
        "Text Processing - Cleaning"
      ],
      "metadata": {
        "id": "x7g_lxevtXsl"
      }
    },
    {
      "cell_type": "code",
      "source": [
        "import warnings\n",
        "warnings.filterwarnings('ignore')\n",
        "\n",
        "def punct_re(true_news):\n",
        "    for i in list(true_news):\n",
        "        true_news[i]=true_news[i].str.replace('|', '')\n",
        "        true_news[i]=true_news[i].str.replace('?', '')\n",
        "        true_news[i]=true_news[i].str.replace(':', '')\n",
        "        true_news[i]=true_news[i].str.replace(';', '')\n",
        "        true_news[i]=true_news[i].str.replace(\"'\", '')\n",
        "        true_news[i]=true_news[i].str.replace('\"', '')\n",
        "        true_news[i]=true_news[i].str.replace(',', '')\n",
        "        true_news[i]=true_news[i].str.replace('.', '')\n",
        "        true_news[i]=true_news[i].str.replace('(', '')\n",
        "        true_news[i]=true_news[i].str.replace(')', '')\n",
        "        true_news[i]=true_news[i].str.replace('\\n', '')\n",
        "        true_news[i]=true_news[i].str.replace('&', '')\n",
        "    return true_news"
      ],
      "metadata": {
        "id": "Ryvqu0len98z"
      },
      "execution_count": null,
      "outputs": []
    },
    {
      "cell_type": "code",
      "source": [
        "true_news = punct_re(true_news)\n",
        "fake_news = punct_re(fake_news)"
      ],
      "metadata": {
        "id": "xCuj0zjGoc4o"
      },
      "execution_count": null,
      "outputs": []
    },
    {
      "cell_type": "code",
      "source": [
        "fake_news"
      ],
      "metadata": {
        "colab": {
          "base_uri": "https://localhost:8080/",
          "height": 424
        },
        "id": "DdXzKfX-vn-5",
        "outputId": "22a1c3c0-5499-451b-da8a-cc4b29a53ffe"
      },
      "execution_count": null,
      "outputs": [
        {
          "output_type": "execute_result",
          "data": {
            "text/plain": [
              "                                      short_description\n",
              "0     बूम ने पाया कि इमरान खान भारत सरकार की आलोचना ...\n",
              "1     सिख समुदाय के कुछ लोगों को हिंदी साइन बोर्ड पर...\n",
              "2     सोशल मीडिया प्लेटफ़ॉर्म फ़ेसबुक और ट्विटर पर इस ...\n",
              "3     दावा है कि भाजपा के नेताओं ने माना है कि सरकार...\n",
              "4     मीडिया आउटलेट्स और वायर एजेंसी ने गलत तरीके से...\n",
              "...                                                 ...\n",
              "1245  भारतीय पहलवान कविता देवी और बुल बुल के बीच हुए...\n",
              "1246  बूम से बात करते हुए एसबीआई अधिकारी ने बताया कि...\n",
              "1247  बीजेपी सांसद परेश रावल एक बार फिर अपने फेक न्य...\n",
              "1248  मार्च से लेकर मई महीने में अचानक से एक्टिव हुई...\n",
              "1249  स्वच्छ भारत मिशन के अधिकारियों के मुताबिक साढ़...\n",
              "\n",
              "[1250 rows x 1 columns]"
            ],
            "text/html": [
              "\n",
              "  <div id=\"df-5be434a3-ec50-4dd7-bb2a-5188b06e432f\">\n",
              "    <div class=\"colab-df-container\">\n",
              "      <div>\n",
              "<style scoped>\n",
              "    .dataframe tbody tr th:only-of-type {\n",
              "        vertical-align: middle;\n",
              "    }\n",
              "\n",
              "    .dataframe tbody tr th {\n",
              "        vertical-align: top;\n",
              "    }\n",
              "\n",
              "    .dataframe thead th {\n",
              "        text-align: right;\n",
              "    }\n",
              "</style>\n",
              "<table border=\"1\" class=\"dataframe\">\n",
              "  <thead>\n",
              "    <tr style=\"text-align: right;\">\n",
              "      <th></th>\n",
              "      <th>short_description</th>\n",
              "    </tr>\n",
              "  </thead>\n",
              "  <tbody>\n",
              "    <tr>\n",
              "      <th>0</th>\n",
              "      <td>बूम ने पाया कि इमरान खान भारत सरकार की आलोचना ...</td>\n",
              "    </tr>\n",
              "    <tr>\n",
              "      <th>1</th>\n",
              "      <td>सिख समुदाय के कुछ लोगों को हिंदी साइन बोर्ड पर...</td>\n",
              "    </tr>\n",
              "    <tr>\n",
              "      <th>2</th>\n",
              "      <td>सोशल मीडिया प्लेटफ़ॉर्म फ़ेसबुक और ट्विटर पर इस ...</td>\n",
              "    </tr>\n",
              "    <tr>\n",
              "      <th>3</th>\n",
              "      <td>दावा है कि भाजपा के नेताओं ने माना है कि सरकार...</td>\n",
              "    </tr>\n",
              "    <tr>\n",
              "      <th>4</th>\n",
              "      <td>मीडिया आउटलेट्स और वायर एजेंसी ने गलत तरीके से...</td>\n",
              "    </tr>\n",
              "    <tr>\n",
              "      <th>...</th>\n",
              "      <td>...</td>\n",
              "    </tr>\n",
              "    <tr>\n",
              "      <th>1245</th>\n",
              "      <td>भारतीय पहलवान कविता देवी और बुल बुल के बीच हुए...</td>\n",
              "    </tr>\n",
              "    <tr>\n",
              "      <th>1246</th>\n",
              "      <td>बूम से बात करते हुए एसबीआई अधिकारी ने बताया कि...</td>\n",
              "    </tr>\n",
              "    <tr>\n",
              "      <th>1247</th>\n",
              "      <td>बीजेपी सांसद परेश रावल एक बार फिर अपने फेक न्य...</td>\n",
              "    </tr>\n",
              "    <tr>\n",
              "      <th>1248</th>\n",
              "      <td>मार्च से लेकर मई महीने में अचानक से एक्टिव हुई...</td>\n",
              "    </tr>\n",
              "    <tr>\n",
              "      <th>1249</th>\n",
              "      <td>स्वच्छ भारत मिशन के अधिकारियों के मुताबिक साढ़...</td>\n",
              "    </tr>\n",
              "  </tbody>\n",
              "</table>\n",
              "<p>1250 rows × 1 columns</p>\n",
              "</div>\n",
              "      <button class=\"colab-df-convert\" onclick=\"convertToInteractive('df-5be434a3-ec50-4dd7-bb2a-5188b06e432f')\"\n",
              "              title=\"Convert this dataframe to an interactive table.\"\n",
              "              style=\"display:none;\">\n",
              "        \n",
              "  <svg xmlns=\"http://www.w3.org/2000/svg\" height=\"24px\"viewBox=\"0 0 24 24\"\n",
              "       width=\"24px\">\n",
              "    <path d=\"M0 0h24v24H0V0z\" fill=\"none\"/>\n",
              "    <path d=\"M18.56 5.44l.94 2.06.94-2.06 2.06-.94-2.06-.94-.94-2.06-.94 2.06-2.06.94zm-11 1L8.5 8.5l.94-2.06 2.06-.94-2.06-.94L8.5 2.5l-.94 2.06-2.06.94zm10 10l.94 2.06.94-2.06 2.06-.94-2.06-.94-.94-2.06-.94 2.06-2.06.94z\"/><path d=\"M17.41 7.96l-1.37-1.37c-.4-.4-.92-.59-1.43-.59-.52 0-1.04.2-1.43.59L10.3 9.45l-7.72 7.72c-.78.78-.78 2.05 0 2.83L4 21.41c.39.39.9.59 1.41.59.51 0 1.02-.2 1.41-.59l7.78-7.78 2.81-2.81c.8-.78.8-2.07 0-2.86zM5.41 20L4 18.59l7.72-7.72 1.47 1.35L5.41 20z\"/>\n",
              "  </svg>\n",
              "      </button>\n",
              "      \n",
              "  <style>\n",
              "    .colab-df-container {\n",
              "      display:flex;\n",
              "      flex-wrap:wrap;\n",
              "      gap: 12px;\n",
              "    }\n",
              "\n",
              "    .colab-df-convert {\n",
              "      background-color: #E8F0FE;\n",
              "      border: none;\n",
              "      border-radius: 50%;\n",
              "      cursor: pointer;\n",
              "      display: none;\n",
              "      fill: #1967D2;\n",
              "      height: 32px;\n",
              "      padding: 0 0 0 0;\n",
              "      width: 32px;\n",
              "    }\n",
              "\n",
              "    .colab-df-convert:hover {\n",
              "      background-color: #E2EBFA;\n",
              "      box-shadow: 0px 1px 2px rgba(60, 64, 67, 0.3), 0px 1px 3px 1px rgba(60, 64, 67, 0.15);\n",
              "      fill: #174EA6;\n",
              "    }\n",
              "\n",
              "    [theme=dark] .colab-df-convert {\n",
              "      background-color: #3B4455;\n",
              "      fill: #D2E3FC;\n",
              "    }\n",
              "\n",
              "    [theme=dark] .colab-df-convert:hover {\n",
              "      background-color: #434B5C;\n",
              "      box-shadow: 0px 1px 3px 1px rgba(0, 0, 0, 0.15);\n",
              "      filter: drop-shadow(0px 1px 2px rgba(0, 0, 0, 0.3));\n",
              "      fill: #FFFFFF;\n",
              "    }\n",
              "  </style>\n",
              "\n",
              "      <script>\n",
              "        const buttonEl =\n",
              "          document.querySelector('#df-5be434a3-ec50-4dd7-bb2a-5188b06e432f button.colab-df-convert');\n",
              "        buttonEl.style.display =\n",
              "          google.colab.kernel.accessAllowed ? 'block' : 'none';\n",
              "\n",
              "        async function convertToInteractive(key) {\n",
              "          const element = document.querySelector('#df-5be434a3-ec50-4dd7-bb2a-5188b06e432f');\n",
              "          const dataTable =\n",
              "            await google.colab.kernel.invokeFunction('convertToInteractive',\n",
              "                                                     [key], {});\n",
              "          if (!dataTable) return;\n",
              "\n",
              "          const docLinkHtml = 'Like what you see? Visit the ' +\n",
              "            '<a target=\"_blank\" href=https://colab.research.google.com/notebooks/data_table.ipynb>data table notebook</a>'\n",
              "            + ' to learn more about interactive tables.';\n",
              "          element.innerHTML = '';\n",
              "          dataTable['output_type'] = 'display_data';\n",
              "          await google.colab.output.renderOutput(dataTable, element);\n",
              "          const docLink = document.createElement('div');\n",
              "          docLink.innerHTML = docLinkHtml;\n",
              "          element.appendChild(docLink);\n",
              "        }\n",
              "      </script>\n",
              "    </div>\n",
              "  </div>\n",
              "  "
            ]
          },
          "metadata": {},
          "execution_count": 78
        }
      ]
    },
    {
      "cell_type": "markdown",
      "source": [
        "Stemming"
      ],
      "metadata": {
        "id": "XpHvEdh8t1Bt"
      }
    },
    {
      "cell_type": "code",
      "source": [
        "suffixes = {\n",
        "    1: [\"ो\", \"े\", \"ू\", \"ु\", \"ी\", \"ि\", \"ा\"],\n",
        "    2: [\"कर\", \"ाओ\", \"िए\", \"ाई\", \"ाए\", \"ने\", \"नी\", \"ना\", \"ते\", \"ीं\", \"ती\", \"ता\", \"ाँ\", \"ां\", \"ों\", \"ें\"],\n",
        "    3: [\"ाकर\", \"ाइए\", \"ाईं\", \"ाया\", \"ेगी\", \"ेगा\", \"ोगी\", \"ोगे\", \"ाने\", \"ाना\", \"ाते\", \"ाती\", \"ाता\", \"तीं\", \"ाओं\", \"ाएं\", \"ुओं\", \"ुएं\", \"ुआं\"],\n",
        "    4: [\"ाएगी\", \"ाएगा\", \"ाओगी\", \"ाओगे\", \"एंगी\", \"ेंगी\", \"एंगे\", \"ेंगे\", \"ूंगी\", \"ूंगा\", \"ातीं\", \"नाओं\", \"नाएं\", \"ताओं\", \"ताएं\", \"ियाँ\", \"ियों\", \"ियां\"],\n",
        "    5: [\"ाएंगी\", \"ाएंगे\", \"ाऊंगी\", \"ाऊंगा\", \"ाइयाँ\", \"ाइयों\", \"ाइयां\"],\n",
        "}\n",
        "\n",
        "def hi_stem(word):\n",
        "    for L in 5, 4, 3, 2, 1:\n",
        "        if len(word) > L + 1:\n",
        "            for suf in suffixes[L]:\n",
        "                if word.endswith(suf):\n",
        "                    return word[:-L]\n",
        "    return word"
      ],
      "metadata": {
        "id": "28CFuTvRtyXt"
      },
      "execution_count": null,
      "outputs": []
    },
    {
      "cell_type": "code",
      "source": [
        "id=list(fake_news.index)\n",
        "id1=list(true_news.index)"
      ],
      "metadata": {
        "id": "jQDyUN_Kt4Z1"
      },
      "execution_count": null,
      "outputs": []
    },
    {
      "cell_type": "code",
      "source": [
        "str_temp=\"\"\n",
        "count=0\n",
        "for i in list(fake_news):\n",
        "  count=0\n",
        "  for j in list(fake_news[i]):\n",
        "    for words in j.split():\n",
        "      str_temp+=hi_stem(words)\n",
        "      str_temp+=\" \"\n",
        "    fake_news.loc[id[count],i]=str_temp\n",
        "    str_temp=\"\"\n",
        "    count+=1"
      ],
      "metadata": {
        "id": "iZigCQeOt6z0"
      },
      "execution_count": null,
      "outputs": []
    },
    {
      "cell_type": "code",
      "source": [
        "str_temp=\"\"\n",
        "count=0\n",
        "for i in list(true_news):\n",
        "  count=0\n",
        "  for j in list(true_news[i]):\n",
        "    for words in j.split():\n",
        "      str_temp+=hi_stem(words)\n",
        "      str_temp+=\" \"\n",
        "    true_news.loc[id1[count],i]=str_temp\n",
        "    str_temp=\"\"\n",
        "    count+=1"
      ],
      "metadata": {
        "id": "MlBFHC7ft8-e"
      },
      "execution_count": null,
      "outputs": []
    },
    {
      "cell_type": "markdown",
      "source": [
        "Stop words removal"
      ],
      "metadata": {
        "id": "_mrGUKB2uClt"
      }
    },
    {
      "cell_type": "code",
      "source": [
        "stop=open('drive/MyDrive/news/hindi/final_stopwords.txt')\n",
        "stopwords=[]\n",
        "for x in stop:\n",
        "  x = x.replace('\\n', '')\n",
        "  stopwords.append(x)"
      ],
      "metadata": {
        "id": "6s8YUNZ_uDJ_"
      },
      "execution_count": null,
      "outputs": []
    },
    {
      "cell_type": "code",
      "source": [
        "from numpy import unicode\n",
        "str_temp=\"\"\n",
        "count=0\n",
        "for i in list(fake_news):\n",
        "  count=0\n",
        "  for j in list(fake_news[i]):\n",
        "    for words in j.split():\n",
        "      if unicode(words) not in stopwords:\n",
        "        str_temp+=words\n",
        "        str_temp+=\" \"\n",
        "    fake_news.loc[id[count],i]=str_temp\n",
        "    str_temp=\"\"\n",
        "    count+=1"
      ],
      "metadata": {
        "id": "1lBTElBWuIQN"
      },
      "execution_count": null,
      "outputs": []
    },
    {
      "cell_type": "code",
      "source": [
        "from numpy import unicode\n",
        "str_temp=\"\"\n",
        "count=0\n",
        "for i in list(true_news):\n",
        "  count=0\n",
        "  for j in list(true_news[i]):\n",
        "    for words in j.split():\n",
        "      if unicode(words) not in stopwords:\n",
        "        str_temp+=words\n",
        "        str_temp+=\" \"\n",
        "    true_news.loc[id1[count],i]=str_temp\n",
        "    str_temp=\"\"\n",
        "    count+=1"
      ],
      "metadata": {
        "id": "jZ5WNzmluK_3"
      },
      "execution_count": null,
      "outputs": []
    },
    {
      "cell_type": "code",
      "source": [
        "# make both length equal\n",
        "if len(fake_news) > len(true_news):\n",
        "  fake_news = fake_news.head(len(true_news))\n",
        "elif len(true_news) > len(fake_news):\n",
        "  true_news = true_news.head(len(fake_news))\n",
        "print(\"Length of fake news: \", len(fake_news))\n",
        "print(\"Length of true news: \", len(true_news))"
      ],
      "metadata": {
        "colab": {
          "base_uri": "https://localhost:8080/"
        },
        "id": "60pM_-1Rwilc",
        "outputId": "c151d245-8a96-4e1e-e200-7b3dca36c4ed"
      },
      "execution_count": null,
      "outputs": [
        {
          "output_type": "stream",
          "name": "stdout",
          "text": [
            "Length of fake news:  760\n",
            "Length of true news:  760\n"
          ]
        }
      ]
    },
    {
      "cell_type": "code",
      "source": [
        "true_news['label']=1\n",
        "fake_news['label']=0\n",
        "news = pd.concat([fake_news, true_news])\n",
        "news"
      ],
      "metadata": {
        "id": "g2d9sOAepMAf"
      },
      "execution_count": null,
      "outputs": []
    },
    {
      "cell_type": "code",
      "source": [
        "true_news.loc[0].tolist()"
      ],
      "metadata": {
        "colab": {
          "base_uri": "https://localhost:8080/"
        },
        "id": "2udKHi1wnMfK",
        "outputId": "7890d08f-1637-480a-f5d5-60d6d4dec1d4"
      },
      "execution_count": null,
      "outputs": [
        {
          "output_type": "execute_result",
          "data": {
            "text/plain": [
              "['भारत ऑस्ट्रेलिय टेस्ट सिरीज़ ऐतिहासिक जीत दर्ज चौथ निर्णायक मैच नौजवान गेंदबाज़ मोहम्मद सिराज अहम भूमिक निभ ',\n",
              " 1]"
            ]
          },
          "metadata": {},
          "execution_count": 91
        }
      ]
    },
    {
      "cell_type": "code",
      "source": [
        "news"
      ],
      "metadata": {
        "colab": {
          "base_uri": "https://localhost:8080/",
          "height": 424
        },
        "id": "FhoRjBGonJyr",
        "outputId": "4d579095-186a-466d-8848-9e18f5aee912"
      },
      "execution_count": null,
      "outputs": [
        {
          "output_type": "execute_result",
          "data": {
            "text/plain": [
              "                                     short_description  label\n",
              "0    बूम पाय इमरान खान भारत सरकार आलोच रह वर्तमान श...      0\n",
              "1    सिख समुदाय के लोग हिंद साइन बोर्ड कालिख पोत दि...      0\n",
              "2    सोशल मीडिय प्लेटफ़ॉर्म फ़ेसबुक ट्विटर दाव के बड़ ...      0\n",
              "3                 दाव भाजप के मा सरकार जन के गलत रह ।       0\n",
              "4    मीडिय आउटलेट्स वायर एजेंस गलत तरीक दाव किय पाक...      0\n",
              "..                                                 ...    ...\n",
              "887  चालक कार रोक के बजाय चल जार रख ट्रैफ़िक पुलिसक...      1\n",
              "888                 मिसाइल 400 किलोमीटर ज़्याद मार सक       1\n",
              "889  आकर्षण केंद्र वो शक्तिशाल पहलवान जिनक संबंध प्...      1\n",
              "890  बिहार के जातिगत समीकरण बात लंब बीजेप हिंद पहचा...      1\n",
              "891  एनआईए 83 साल के फ़ादर स्टेन स्वाम गिरफ़्तार यू...      1\n",
              "\n",
              "[1520 rows x 2 columns]"
            ],
            "text/html": [
              "\n",
              "  <div id=\"df-b028dd90-5212-4350-924f-658528e55c36\">\n",
              "    <div class=\"colab-df-container\">\n",
              "      <div>\n",
              "<style scoped>\n",
              "    .dataframe tbody tr th:only-of-type {\n",
              "        vertical-align: middle;\n",
              "    }\n",
              "\n",
              "    .dataframe tbody tr th {\n",
              "        vertical-align: top;\n",
              "    }\n",
              "\n",
              "    .dataframe thead th {\n",
              "        text-align: right;\n",
              "    }\n",
              "</style>\n",
              "<table border=\"1\" class=\"dataframe\">\n",
              "  <thead>\n",
              "    <tr style=\"text-align: right;\">\n",
              "      <th></th>\n",
              "      <th>short_description</th>\n",
              "      <th>label</th>\n",
              "    </tr>\n",
              "  </thead>\n",
              "  <tbody>\n",
              "    <tr>\n",
              "      <th>0</th>\n",
              "      <td>बूम पाय इमरान खान भारत सरकार आलोच रह वर्तमान श...</td>\n",
              "      <td>0</td>\n",
              "    </tr>\n",
              "    <tr>\n",
              "      <th>1</th>\n",
              "      <td>सिख समुदाय के लोग हिंद साइन बोर्ड कालिख पोत दि...</td>\n",
              "      <td>0</td>\n",
              "    </tr>\n",
              "    <tr>\n",
              "      <th>2</th>\n",
              "      <td>सोशल मीडिय प्लेटफ़ॉर्म फ़ेसबुक ट्विटर दाव के बड़ ...</td>\n",
              "      <td>0</td>\n",
              "    </tr>\n",
              "    <tr>\n",
              "      <th>3</th>\n",
              "      <td>दाव भाजप के मा सरकार जन के गलत रह ।</td>\n",
              "      <td>0</td>\n",
              "    </tr>\n",
              "    <tr>\n",
              "      <th>4</th>\n",
              "      <td>मीडिय आउटलेट्स वायर एजेंस गलत तरीक दाव किय पाक...</td>\n",
              "      <td>0</td>\n",
              "    </tr>\n",
              "    <tr>\n",
              "      <th>...</th>\n",
              "      <td>...</td>\n",
              "      <td>...</td>\n",
              "    </tr>\n",
              "    <tr>\n",
              "      <th>887</th>\n",
              "      <td>चालक कार रोक के बजाय चल जार रख ट्रैफ़िक पुलिसक...</td>\n",
              "      <td>1</td>\n",
              "    </tr>\n",
              "    <tr>\n",
              "      <th>888</th>\n",
              "      <td>मिसाइल 400 किलोमीटर ज़्याद मार सक</td>\n",
              "      <td>1</td>\n",
              "    </tr>\n",
              "    <tr>\n",
              "      <th>889</th>\n",
              "      <td>आकर्षण केंद्र वो शक्तिशाल पहलवान जिनक संबंध प्...</td>\n",
              "      <td>1</td>\n",
              "    </tr>\n",
              "    <tr>\n",
              "      <th>890</th>\n",
              "      <td>बिहार के जातिगत समीकरण बात लंब बीजेप हिंद पहचा...</td>\n",
              "      <td>1</td>\n",
              "    </tr>\n",
              "    <tr>\n",
              "      <th>891</th>\n",
              "      <td>एनआईए 83 साल के फ़ादर स्टेन स्वाम गिरफ़्तार यू...</td>\n",
              "      <td>1</td>\n",
              "    </tr>\n",
              "  </tbody>\n",
              "</table>\n",
              "<p>1520 rows × 2 columns</p>\n",
              "</div>\n",
              "      <button class=\"colab-df-convert\" onclick=\"convertToInteractive('df-b028dd90-5212-4350-924f-658528e55c36')\"\n",
              "              title=\"Convert this dataframe to an interactive table.\"\n",
              "              style=\"display:none;\">\n",
              "        \n",
              "  <svg xmlns=\"http://www.w3.org/2000/svg\" height=\"24px\"viewBox=\"0 0 24 24\"\n",
              "       width=\"24px\">\n",
              "    <path d=\"M0 0h24v24H0V0z\" fill=\"none\"/>\n",
              "    <path d=\"M18.56 5.44l.94 2.06.94-2.06 2.06-.94-2.06-.94-.94-2.06-.94 2.06-2.06.94zm-11 1L8.5 8.5l.94-2.06 2.06-.94-2.06-.94L8.5 2.5l-.94 2.06-2.06.94zm10 10l.94 2.06.94-2.06 2.06-.94-2.06-.94-.94-2.06-.94 2.06-2.06.94z\"/><path d=\"M17.41 7.96l-1.37-1.37c-.4-.4-.92-.59-1.43-.59-.52 0-1.04.2-1.43.59L10.3 9.45l-7.72 7.72c-.78.78-.78 2.05 0 2.83L4 21.41c.39.39.9.59 1.41.59.51 0 1.02-.2 1.41-.59l7.78-7.78 2.81-2.81c.8-.78.8-2.07 0-2.86zM5.41 20L4 18.59l7.72-7.72 1.47 1.35L5.41 20z\"/>\n",
              "  </svg>\n",
              "      </button>\n",
              "      \n",
              "  <style>\n",
              "    .colab-df-container {\n",
              "      display:flex;\n",
              "      flex-wrap:wrap;\n",
              "      gap: 12px;\n",
              "    }\n",
              "\n",
              "    .colab-df-convert {\n",
              "      background-color: #E8F0FE;\n",
              "      border: none;\n",
              "      border-radius: 50%;\n",
              "      cursor: pointer;\n",
              "      display: none;\n",
              "      fill: #1967D2;\n",
              "      height: 32px;\n",
              "      padding: 0 0 0 0;\n",
              "      width: 32px;\n",
              "    }\n",
              "\n",
              "    .colab-df-convert:hover {\n",
              "      background-color: #E2EBFA;\n",
              "      box-shadow: 0px 1px 2px rgba(60, 64, 67, 0.3), 0px 1px 3px 1px rgba(60, 64, 67, 0.15);\n",
              "      fill: #174EA6;\n",
              "    }\n",
              "\n",
              "    [theme=dark] .colab-df-convert {\n",
              "      background-color: #3B4455;\n",
              "      fill: #D2E3FC;\n",
              "    }\n",
              "\n",
              "    [theme=dark] .colab-df-convert:hover {\n",
              "      background-color: #434B5C;\n",
              "      box-shadow: 0px 1px 3px 1px rgba(0, 0, 0, 0.15);\n",
              "      filter: drop-shadow(0px 1px 2px rgba(0, 0, 0, 0.3));\n",
              "      fill: #FFFFFF;\n",
              "    }\n",
              "  </style>\n",
              "\n",
              "      <script>\n",
              "        const buttonEl =\n",
              "          document.querySelector('#df-b028dd90-5212-4350-924f-658528e55c36 button.colab-df-convert');\n",
              "        buttonEl.style.display =\n",
              "          google.colab.kernel.accessAllowed ? 'block' : 'none';\n",
              "\n",
              "        async function convertToInteractive(key) {\n",
              "          const element = document.querySelector('#df-b028dd90-5212-4350-924f-658528e55c36');\n",
              "          const dataTable =\n",
              "            await google.colab.kernel.invokeFunction('convertToInteractive',\n",
              "                                                     [key], {});\n",
              "          if (!dataTable) return;\n",
              "\n",
              "          const docLinkHtml = 'Like what you see? Visit the ' +\n",
              "            '<a target=\"_blank\" href=https://colab.research.google.com/notebooks/data_table.ipynb>data table notebook</a>'\n",
              "            + ' to learn more about interactive tables.';\n",
              "          element.innerHTML = '';\n",
              "          dataTable['output_type'] = 'display_data';\n",
              "          await google.colab.output.renderOutput(dataTable, element);\n",
              "          const docLink = document.createElement('div');\n",
              "          docLink.innerHTML = docLinkHtml;\n",
              "          element.appendChild(docLink);\n",
              "        }\n",
              "      </script>\n",
              "    </div>\n",
              "  </div>\n",
              "  "
            ]
          },
          "metadata": {},
          "execution_count": 90
        }
      ]
    },
    {
      "cell_type": "code",
      "source": [
        "news.loc[1].values"
      ],
      "metadata": {
        "colab": {
          "base_uri": "https://localhost:8080/"
        },
        "id": "hTW9iNoymckU",
        "outputId": "45efc0d2-2f55-42ca-c3dc-f5563ff84221"
      },
      "execution_count": null,
      "outputs": [
        {
          "output_type": "execute_result",
          "data": {
            "text/plain": [
              "array([['सिख समुदाय के लोग हिंद साइन बोर्ड कालिख पोत दिख तस्वीर सेट वीडिय वायरल रह ',\n",
              "        0],\n",
              "       ['ब्रिस्बेन टेस्ट भारत दीवार कह वाल चेतेश्वर पुजार अर्धशतक जम पार के वो चोटिल ऑस्ट्रेलिय गेंदबाज़ गेंद उनक शरीर लग ',\n",
              "        1]], dtype=object)"
            ]
          },
          "metadata": {},
          "execution_count": 89
        }
      ]
    },
    {
      "cell_type": "code",
      "source": [
        "news.loc[0].tolist()"
      ],
      "metadata": {
        "id": "Ug9HsswKmWWZ"
      },
      "execution_count": null,
      "outputs": []
    },
    {
      "cell_type": "markdown",
      "source": [
        "Text Representation"
      ],
      "metadata": {
        "id": "MGw6NwGZxI0F"
      }
    },
    {
      "cell_type": "code",
      "source": [
        "X = news.iloc[:, 0]\n",
        "y = news.iloc[:, 1]"
      ],
      "metadata": {
        "id": "JxCwBOuZxdck"
      },
      "execution_count": null,
      "outputs": []
    },
    {
      "cell_type": "code",
      "source": [
        "from sklearn.feature_extraction.text import CountVectorizer, TfidfVectorizer\n",
        "hin_vec = CountVectorizer(max_features=5000)\n",
        "bow_data = hin_vec.fit_transform(X).toarray()\n",
        "features = hin_vec.get_feature_names_out()\n",
        "bow_data = pd.DataFrame(bow_data, columns=features)"
      ],
      "metadata": {
        "id": "E1RCW-kOxI0G"
      },
      "execution_count": null,
      "outputs": []
    },
    {
      "cell_type": "code",
      "source": [
        "pickle.dump(hin_vec,open(\"/content/drive/MyDrive/news/hindi/hind_vec.p\",\"wb\"))"
      ],
      "metadata": {
        "id": "u-l88Nncn2mk"
      },
      "execution_count": null,
      "outputs": []
    },
    {
      "cell_type": "code",
      "source": [
        "bow_data"
      ],
      "metadata": {
        "colab": {
          "base_uri": "https://localhost:8080/",
          "height": 424
        },
        "id": "EsXgkG6yvkfN",
        "outputId": "640509d0-4270-4839-a862-9703e291b856"
      },
      "execution_count": null,
      "outputs": [
        {
          "output_type": "execute_result",
          "data": {
            "text/plain": [
              "      10  100  10000  104  107  108  10व  11  110  116  ...  ज़र  ज़फ़  ड़छ  ड़फ  \\\n",
              "0      0    0      0    0    0    0    0   0    0    0  ...   0   0   0   0   \n",
              "1      0    0      0    0    0    0    0   0    0    0  ...   0   0   0   0   \n",
              "2      0    0      0    0    0    0    0   0    0    0  ...   0   0   0   0   \n",
              "3      0    0      0    0    0    0    0   0    0    0  ...   0   0   0   0   \n",
              "4      0    0      0    0    0    0    0   0    0    0  ...   0   0   0   0   \n",
              "...   ..  ...    ...  ...  ...  ...  ...  ..  ...  ...  ...  ..  ..  ..  ..   \n",
              "1515   0    0      0    0    0    0    0   0    0    0  ...   0   0   0   0   \n",
              "1516   0    0      0    0    0    0    0   0    0    0  ...   0   0   0   0   \n",
              "1517   0    0      0    0    0    0    0   0    0    0  ...   0   0   0   0   \n",
              "1518   0    0      0    0    0    0    0   0    0    0  ...   0   0   0   0   \n",
              "1519   0    0      0    0    0    0    0   0    0    0  ...   0   0   0   0   \n",
              "\n",
              "      फ़त  फ़य  फ़र  फ़रनगर  फ़रवर  फ़हद  \n",
              "0      0   0   0      0     0    0  \n",
              "1      0   0   0      0     0    0  \n",
              "2      0   0   0      0     0    0  \n",
              "3      0   0   0      0     0    0  \n",
              "4      0   0   0      0     0    0  \n",
              "...   ..  ..  ..    ...   ...  ...  \n",
              "1515   0   0   0      0     0    0  \n",
              "1516   0   0   0      0     0    0  \n",
              "1517   0   0   0      0     0    0  \n",
              "1518   0   0   0      0     0    0  \n",
              "1519   0   0   0      0     0    0  \n",
              "\n",
              "[1520 rows x 1268 columns]"
            ],
            "text/html": [
              "\n",
              "  <div id=\"df-74f898fa-9c6b-4637-81f4-ac09a93d92d7\">\n",
              "    <div class=\"colab-df-container\">\n",
              "      <div>\n",
              "<style scoped>\n",
              "    .dataframe tbody tr th:only-of-type {\n",
              "        vertical-align: middle;\n",
              "    }\n",
              "\n",
              "    .dataframe tbody tr th {\n",
              "        vertical-align: top;\n",
              "    }\n",
              "\n",
              "    .dataframe thead th {\n",
              "        text-align: right;\n",
              "    }\n",
              "</style>\n",
              "<table border=\"1\" class=\"dataframe\">\n",
              "  <thead>\n",
              "    <tr style=\"text-align: right;\">\n",
              "      <th></th>\n",
              "      <th>10</th>\n",
              "      <th>100</th>\n",
              "      <th>10000</th>\n",
              "      <th>104</th>\n",
              "      <th>107</th>\n",
              "      <th>108</th>\n",
              "      <th>10व</th>\n",
              "      <th>11</th>\n",
              "      <th>110</th>\n",
              "      <th>116</th>\n",
              "      <th>...</th>\n",
              "      <th>ज़र</th>\n",
              "      <th>ज़फ़</th>\n",
              "      <th>ड़छ</th>\n",
              "      <th>ड़फ</th>\n",
              "      <th>फ़त</th>\n",
              "      <th>फ़य</th>\n",
              "      <th>फ़र</th>\n",
              "      <th>फ़रनगर</th>\n",
              "      <th>फ़रवर</th>\n",
              "      <th>फ़हद</th>\n",
              "    </tr>\n",
              "  </thead>\n",
              "  <tbody>\n",
              "    <tr>\n",
              "      <th>0</th>\n",
              "      <td>0</td>\n",
              "      <td>0</td>\n",
              "      <td>0</td>\n",
              "      <td>0</td>\n",
              "      <td>0</td>\n",
              "      <td>0</td>\n",
              "      <td>0</td>\n",
              "      <td>0</td>\n",
              "      <td>0</td>\n",
              "      <td>0</td>\n",
              "      <td>...</td>\n",
              "      <td>0</td>\n",
              "      <td>0</td>\n",
              "      <td>0</td>\n",
              "      <td>0</td>\n",
              "      <td>0</td>\n",
              "      <td>0</td>\n",
              "      <td>0</td>\n",
              "      <td>0</td>\n",
              "      <td>0</td>\n",
              "      <td>0</td>\n",
              "    </tr>\n",
              "    <tr>\n",
              "      <th>1</th>\n",
              "      <td>0</td>\n",
              "      <td>0</td>\n",
              "      <td>0</td>\n",
              "      <td>0</td>\n",
              "      <td>0</td>\n",
              "      <td>0</td>\n",
              "      <td>0</td>\n",
              "      <td>0</td>\n",
              "      <td>0</td>\n",
              "      <td>0</td>\n",
              "      <td>...</td>\n",
              "      <td>0</td>\n",
              "      <td>0</td>\n",
              "      <td>0</td>\n",
              "      <td>0</td>\n",
              "      <td>0</td>\n",
              "      <td>0</td>\n",
              "      <td>0</td>\n",
              "      <td>0</td>\n",
              "      <td>0</td>\n",
              "      <td>0</td>\n",
              "    </tr>\n",
              "    <tr>\n",
              "      <th>2</th>\n",
              "      <td>0</td>\n",
              "      <td>0</td>\n",
              "      <td>0</td>\n",
              "      <td>0</td>\n",
              "      <td>0</td>\n",
              "      <td>0</td>\n",
              "      <td>0</td>\n",
              "      <td>0</td>\n",
              "      <td>0</td>\n",
              "      <td>0</td>\n",
              "      <td>...</td>\n",
              "      <td>0</td>\n",
              "      <td>0</td>\n",
              "      <td>0</td>\n",
              "      <td>0</td>\n",
              "      <td>0</td>\n",
              "      <td>0</td>\n",
              "      <td>0</td>\n",
              "      <td>0</td>\n",
              "      <td>0</td>\n",
              "      <td>0</td>\n",
              "    </tr>\n",
              "    <tr>\n",
              "      <th>3</th>\n",
              "      <td>0</td>\n",
              "      <td>0</td>\n",
              "      <td>0</td>\n",
              "      <td>0</td>\n",
              "      <td>0</td>\n",
              "      <td>0</td>\n",
              "      <td>0</td>\n",
              "      <td>0</td>\n",
              "      <td>0</td>\n",
              "      <td>0</td>\n",
              "      <td>...</td>\n",
              "      <td>0</td>\n",
              "      <td>0</td>\n",
              "      <td>0</td>\n",
              "      <td>0</td>\n",
              "      <td>0</td>\n",
              "      <td>0</td>\n",
              "      <td>0</td>\n",
              "      <td>0</td>\n",
              "      <td>0</td>\n",
              "      <td>0</td>\n",
              "    </tr>\n",
              "    <tr>\n",
              "      <th>4</th>\n",
              "      <td>0</td>\n",
              "      <td>0</td>\n",
              "      <td>0</td>\n",
              "      <td>0</td>\n",
              "      <td>0</td>\n",
              "      <td>0</td>\n",
              "      <td>0</td>\n",
              "      <td>0</td>\n",
              "      <td>0</td>\n",
              "      <td>0</td>\n",
              "      <td>...</td>\n",
              "      <td>0</td>\n",
              "      <td>0</td>\n",
              "      <td>0</td>\n",
              "      <td>0</td>\n",
              "      <td>0</td>\n",
              "      <td>0</td>\n",
              "      <td>0</td>\n",
              "      <td>0</td>\n",
              "      <td>0</td>\n",
              "      <td>0</td>\n",
              "    </tr>\n",
              "    <tr>\n",
              "      <th>...</th>\n",
              "      <td>...</td>\n",
              "      <td>...</td>\n",
              "      <td>...</td>\n",
              "      <td>...</td>\n",
              "      <td>...</td>\n",
              "      <td>...</td>\n",
              "      <td>...</td>\n",
              "      <td>...</td>\n",
              "      <td>...</td>\n",
              "      <td>...</td>\n",
              "      <td>...</td>\n",
              "      <td>...</td>\n",
              "      <td>...</td>\n",
              "      <td>...</td>\n",
              "      <td>...</td>\n",
              "      <td>...</td>\n",
              "      <td>...</td>\n",
              "      <td>...</td>\n",
              "      <td>...</td>\n",
              "      <td>...</td>\n",
              "      <td>...</td>\n",
              "    </tr>\n",
              "    <tr>\n",
              "      <th>1515</th>\n",
              "      <td>0</td>\n",
              "      <td>0</td>\n",
              "      <td>0</td>\n",
              "      <td>0</td>\n",
              "      <td>0</td>\n",
              "      <td>0</td>\n",
              "      <td>0</td>\n",
              "      <td>0</td>\n",
              "      <td>0</td>\n",
              "      <td>0</td>\n",
              "      <td>...</td>\n",
              "      <td>0</td>\n",
              "      <td>0</td>\n",
              "      <td>0</td>\n",
              "      <td>0</td>\n",
              "      <td>0</td>\n",
              "      <td>0</td>\n",
              "      <td>0</td>\n",
              "      <td>0</td>\n",
              "      <td>0</td>\n",
              "      <td>0</td>\n",
              "    </tr>\n",
              "    <tr>\n",
              "      <th>1516</th>\n",
              "      <td>0</td>\n",
              "      <td>0</td>\n",
              "      <td>0</td>\n",
              "      <td>0</td>\n",
              "      <td>0</td>\n",
              "      <td>0</td>\n",
              "      <td>0</td>\n",
              "      <td>0</td>\n",
              "      <td>0</td>\n",
              "      <td>0</td>\n",
              "      <td>...</td>\n",
              "      <td>0</td>\n",
              "      <td>0</td>\n",
              "      <td>0</td>\n",
              "      <td>0</td>\n",
              "      <td>0</td>\n",
              "      <td>0</td>\n",
              "      <td>0</td>\n",
              "      <td>0</td>\n",
              "      <td>0</td>\n",
              "      <td>0</td>\n",
              "    </tr>\n",
              "    <tr>\n",
              "      <th>1517</th>\n",
              "      <td>0</td>\n",
              "      <td>0</td>\n",
              "      <td>0</td>\n",
              "      <td>0</td>\n",
              "      <td>0</td>\n",
              "      <td>0</td>\n",
              "      <td>0</td>\n",
              "      <td>0</td>\n",
              "      <td>0</td>\n",
              "      <td>0</td>\n",
              "      <td>...</td>\n",
              "      <td>0</td>\n",
              "      <td>0</td>\n",
              "      <td>0</td>\n",
              "      <td>0</td>\n",
              "      <td>0</td>\n",
              "      <td>0</td>\n",
              "      <td>0</td>\n",
              "      <td>0</td>\n",
              "      <td>0</td>\n",
              "      <td>0</td>\n",
              "    </tr>\n",
              "    <tr>\n",
              "      <th>1518</th>\n",
              "      <td>0</td>\n",
              "      <td>0</td>\n",
              "      <td>0</td>\n",
              "      <td>0</td>\n",
              "      <td>0</td>\n",
              "      <td>0</td>\n",
              "      <td>0</td>\n",
              "      <td>0</td>\n",
              "      <td>0</td>\n",
              "      <td>0</td>\n",
              "      <td>...</td>\n",
              "      <td>0</td>\n",
              "      <td>0</td>\n",
              "      <td>0</td>\n",
              "      <td>0</td>\n",
              "      <td>0</td>\n",
              "      <td>0</td>\n",
              "      <td>0</td>\n",
              "      <td>0</td>\n",
              "      <td>0</td>\n",
              "      <td>0</td>\n",
              "    </tr>\n",
              "    <tr>\n",
              "      <th>1519</th>\n",
              "      <td>0</td>\n",
              "      <td>0</td>\n",
              "      <td>0</td>\n",
              "      <td>0</td>\n",
              "      <td>0</td>\n",
              "      <td>0</td>\n",
              "      <td>0</td>\n",
              "      <td>0</td>\n",
              "      <td>0</td>\n",
              "      <td>0</td>\n",
              "      <td>...</td>\n",
              "      <td>0</td>\n",
              "      <td>0</td>\n",
              "      <td>0</td>\n",
              "      <td>0</td>\n",
              "      <td>0</td>\n",
              "      <td>0</td>\n",
              "      <td>0</td>\n",
              "      <td>0</td>\n",
              "      <td>0</td>\n",
              "      <td>0</td>\n",
              "    </tr>\n",
              "  </tbody>\n",
              "</table>\n",
              "<p>1520 rows × 1268 columns</p>\n",
              "</div>\n",
              "      <button class=\"colab-df-convert\" onclick=\"convertToInteractive('df-74f898fa-9c6b-4637-81f4-ac09a93d92d7')\"\n",
              "              title=\"Convert this dataframe to an interactive table.\"\n",
              "              style=\"display:none;\">\n",
              "        \n",
              "  <svg xmlns=\"http://www.w3.org/2000/svg\" height=\"24px\"viewBox=\"0 0 24 24\"\n",
              "       width=\"24px\">\n",
              "    <path d=\"M0 0h24v24H0V0z\" fill=\"none\"/>\n",
              "    <path d=\"M18.56 5.44l.94 2.06.94-2.06 2.06-.94-2.06-.94-.94-2.06-.94 2.06-2.06.94zm-11 1L8.5 8.5l.94-2.06 2.06-.94-2.06-.94L8.5 2.5l-.94 2.06-2.06.94zm10 10l.94 2.06.94-2.06 2.06-.94-2.06-.94-.94-2.06-.94 2.06-2.06.94z\"/><path d=\"M17.41 7.96l-1.37-1.37c-.4-.4-.92-.59-1.43-.59-.52 0-1.04.2-1.43.59L10.3 9.45l-7.72 7.72c-.78.78-.78 2.05 0 2.83L4 21.41c.39.39.9.59 1.41.59.51 0 1.02-.2 1.41-.59l7.78-7.78 2.81-2.81c.8-.78.8-2.07 0-2.86zM5.41 20L4 18.59l7.72-7.72 1.47 1.35L5.41 20z\"/>\n",
              "  </svg>\n",
              "      </button>\n",
              "      \n",
              "  <style>\n",
              "    .colab-df-container {\n",
              "      display:flex;\n",
              "      flex-wrap:wrap;\n",
              "      gap: 12px;\n",
              "    }\n",
              "\n",
              "    .colab-df-convert {\n",
              "      background-color: #E8F0FE;\n",
              "      border: none;\n",
              "      border-radius: 50%;\n",
              "      cursor: pointer;\n",
              "      display: none;\n",
              "      fill: #1967D2;\n",
              "      height: 32px;\n",
              "      padding: 0 0 0 0;\n",
              "      width: 32px;\n",
              "    }\n",
              "\n",
              "    .colab-df-convert:hover {\n",
              "      background-color: #E2EBFA;\n",
              "      box-shadow: 0px 1px 2px rgba(60, 64, 67, 0.3), 0px 1px 3px 1px rgba(60, 64, 67, 0.15);\n",
              "      fill: #174EA6;\n",
              "    }\n",
              "\n",
              "    [theme=dark] .colab-df-convert {\n",
              "      background-color: #3B4455;\n",
              "      fill: #D2E3FC;\n",
              "    }\n",
              "\n",
              "    [theme=dark] .colab-df-convert:hover {\n",
              "      background-color: #434B5C;\n",
              "      box-shadow: 0px 1px 3px 1px rgba(0, 0, 0, 0.15);\n",
              "      filter: drop-shadow(0px 1px 2px rgba(0, 0, 0, 0.3));\n",
              "      fill: #FFFFFF;\n",
              "    }\n",
              "  </style>\n",
              "\n",
              "      <script>\n",
              "        const buttonEl =\n",
              "          document.querySelector('#df-74f898fa-9c6b-4637-81f4-ac09a93d92d7 button.colab-df-convert');\n",
              "        buttonEl.style.display =\n",
              "          google.colab.kernel.accessAllowed ? 'block' : 'none';\n",
              "\n",
              "        async function convertToInteractive(key) {\n",
              "          const element = document.querySelector('#df-74f898fa-9c6b-4637-81f4-ac09a93d92d7');\n",
              "          const dataTable =\n",
              "            await google.colab.kernel.invokeFunction('convertToInteractive',\n",
              "                                                     [key], {});\n",
              "          if (!dataTable) return;\n",
              "\n",
              "          const docLinkHtml = 'Like what you see? Visit the ' +\n",
              "            '<a target=\"_blank\" href=https://colab.research.google.com/notebooks/data_table.ipynb>data table notebook</a>'\n",
              "            + ' to learn more about interactive tables.';\n",
              "          element.innerHTML = '';\n",
              "          dataTable['output_type'] = 'display_data';\n",
              "          await google.colab.output.renderOutput(dataTable, element);\n",
              "          const docLink = document.createElement('div');\n",
              "          docLink.innerHTML = docLinkHtml;\n",
              "          element.appendChild(docLink);\n",
              "        }\n",
              "      </script>\n",
              "    </div>\n",
              "  </div>\n",
              "  "
            ]
          },
          "metadata": {},
          "execution_count": 39
        }
      ]
    },
    {
      "cell_type": "markdown",
      "source": [
        "Training"
      ],
      "metadata": {
        "id": "OdVYEjzFyA5-"
      }
    },
    {
      "cell_type": "code",
      "source": [
        "from sklearn.naive_bayes import MultinomialNB\n",
        "nb = MultinomialNB()\n",
        "from sklearn.naive_bayes import BernoulliNB\n",
        "bnb = BernoulliNB()\n",
        "from sklearn.tree import DecisionTreeClassifier\n",
        "dt = DecisionTreeClassifier()\n",
        "from sklearn.linear_model import SGDClassifier\n",
        "sgd = SGDClassifier(loss=\"log\")\n",
        "from sklearn.ensemble import RandomForestClassifier\n",
        "rf = RandomForestClassifier()\n",
        "from sklearn.ensemble import VotingClassifier\n",
        "model = VotingClassifier(estimators=[('MultinomialNB', nb), ('BernoulliNB', bnb), ('DecisionTreeClassifier', dt),\n",
        "                                              ('SGDClassifier', sgd), ('RandomForestClassifier', rf)], voting='soft')"
      ],
      "metadata": {
        "id": "5MgMlCd1yA5-"
      },
      "execution_count": null,
      "outputs": []
    },
    {
      "cell_type": "code",
      "source": [
        "from sklearn.model_selection import train_test_split\n",
        "from sklearn.metrics import classification_report\n",
        "\n",
        "xtrain, xtest, ytrain, ytest = train_test_split(bow_data, y, test_size=0.2)\n",
        "model.fit(xtrain, ytrain)\n",
        "ypred_ts = model.predict(xtest)\n",
        "print(\"Testing Results:\\n\")\n",
        "print(classification_report(ytest, ypred_ts, target_names=['FAKE', 'REAL']))"
      ],
      "metadata": {
        "colab": {
          "base_uri": "https://localhost:8080/"
        },
        "outputId": "c76c5f62-e76f-4eb5-99af-c0dc69edfb6a",
        "id": "wCIkXmZUyA5_"
      },
      "execution_count": null,
      "outputs": [
        {
          "output_type": "stream",
          "name": "stdout",
          "text": [
            "Testing Results:\n",
            "\n",
            "              precision    recall  f1-score   support\n",
            "\n",
            "        FAKE       0.90      0.86      0.88       160\n",
            "        REAL       0.85      0.89      0.87       144\n",
            "\n",
            "    accuracy                           0.87       304\n",
            "   macro avg       0.87      0.87      0.87       304\n",
            "weighted avg       0.87      0.87      0.87       304\n",
            "\n"
          ]
        }
      ]
    },
    {
      "cell_type": "code",
      "source": [
        "from sklearn.metrics import confusion_matrix\n",
        "import seaborn as sns\n",
        "target_names=['FAKE', 'REAL']\n",
        "CM = confusion_matrix(ytest,ypred_ts)\n",
        "# drawing confusion matrix\n",
        "sns.heatmap(CM, center = True , annot=True, fmt=\"d\" ,cmap=\"Blues\", xticklabels=target_names, yticklabels=target_names)\n",
        "plt.show()"
      ],
      "metadata": {
        "colab": {
          "base_uri": "https://localhost:8080/",
          "height": 265
        },
        "id": "OOlZXwKxpYcs",
        "outputId": "51815870-c10c-482f-b4b8-9c033c0dd516"
      },
      "execution_count": null,
      "outputs": [
        {
          "output_type": "display_data",
          "data": {
            "text/plain": [
              "<Figure size 432x288 with 2 Axes>"
            ],
            "image/png": "[encoded data removed]"
          },
          "metadata": {
            "needs_background": "light"
          }
        }
      ]
    },
    {
      "cell_type": "code",
      "source": [
        "import joblib\n",
        "# Save the model as a pickle in a file\n",
        "joblib.dump(model, '/content/drive/MyDrive/news/hindi/hindi.pkl')"
      ],
      "metadata": {
        "colab": {
          "base_uri": "https://localhost:8080/"
        },
        "id": "2lTWFOW-qbYg",
        "outputId": "1fca5cd8-1df6-432d-c24b-63c52512a3ea"
      },
      "execution_count": null,
      "outputs": [
        {
          "output_type": "execute_result",
          "data": {
            "text/plain": [
              "['/content/drive/MyDrive/news/hindi/hindi.pkl']"
            ]
          },
          "metadata": {},
          "execution_count": 44
        }
      ]
    },
    {
      "cell_type": "markdown",
      "source": [
        "Prediction"
      ],
      "metadata": {
        "id": "I4V7qoCSyA6A"
      }
    },
    {
      "cell_type": "code",
      "source": [
        "finput = 'बूम पाय इमरान खान भारत सरकार आलोच रह वर्तमान शासन अधिनायकवाद मुस्लिम विरोध पाकिस्तान'\n",
        "input = hin_vec.transform([finput]).toarray()\n",
        "features = hin_vec.get_feature_names_out()\n",
        "input = pd.DataFrame(input, columns=features)\n",
        "weight_hindi = joblib.load(\"/content/drive/MyDrive/news/hindi/hindi.pkl\")\n",
        "pred = model.predict(input)\n",
        "if pred[0] == 1:\n",
        "    print('Predicted news is REAL')\n",
        "else:\n",
        "    print('Predicted  news is FAKE')"
      ],
      "metadata": {
        "colab": {
          "base_uri": "https://localhost:8080/"
        },
        "id": "ryIcXH0zyA6A",
        "outputId": "7ec0eb20-55de-4b1f-db1c-b198ec953fed"
      },
      "execution_count": null,
      "outputs": [
        {
          "output_type": "stream",
          "name": "stdout",
          "text": [
            "Predicted news is REAL\n"
          ]
        }
      ]
    },
    {
      "cell_type": "markdown",
      "source": [
        "## Bengali"
      ],
      "metadata": {
        "id": "NNrFiiZDzFTk"
      }
    },
    {
      "cell_type": "code",
      "source": [
        "!pip install bnlp_toolkit"
      ],
      "metadata": {
        "id": "fu8YsDJz7fPV",
        "colab": {
          "base_uri": "https://localhost:8080/"
        },
        "outputId": "484ce445-7446-46b1-bc80-81094c0bfc77"
      },
      "execution_count": 10,
      "outputs": [
        {
          "output_type": "stream",
          "name": "stdout",
          "text": [
            "Collecting bnlp_toolkit\n",
            "  Downloading bnlp_toolkit-4.0.0-py3-none-any.whl (22 kB)\n",
            "Collecting sentencepiece (from bnlp_toolkit)\n",
            "  Downloading sentencepiece-0.1.99-cp310-cp310-manylinux_2_17_x86_64.manylinux2014_x86_64.whl (1.3 MB)\n",
            "\u001b[2K     \u001b[90m━━━━━━━━━━━━━━━━━━━━━━━━━━━━━━━━━━━━━━━━\u001b[0m \u001b[32m1.3/1.3 MB\u001b[0m \u001b[31m6.9 MB/s\u001b[0m eta \u001b[36m0:00:00\u001b[0m\n",
            "\u001b[?25hRequirement already satisfied: gensim in /usr/local/lib/python3.10/dist-packages (from bnlp_toolkit) (4.3.2)\n",
            "Requirement already satisfied: nltk in /usr/local/lib/python3.10/dist-packages (from bnlp_toolkit) (3.8.1)\n",
            "Requirement already satisfied: numpy in /usr/local/lib/python3.10/dist-packages (from bnlp_toolkit) (1.23.5)\n",
            "Requirement already satisfied: scipy in /usr/local/lib/python3.10/dist-packages (from bnlp_toolkit) (1.11.4)\n",
            "Collecting sklearn-crfsuite (from bnlp_toolkit)\n",
            "  Downloading sklearn_crfsuite-0.3.6-py2.py3-none-any.whl (12 kB)\n",
            "Requirement already satisfied: tqdm in /usr/local/lib/python3.10/dist-packages (from bnlp_toolkit) (4.66.1)\n",
            "Collecting ftfy (from bnlp_toolkit)\n",
            "  Downloading ftfy-6.1.3-py3-none-any.whl (53 kB)\n",
            "\u001b[2K     \u001b[90m━━━━━━━━━━━━━━━━━━━━━━━━━━━━━━━━━━━━━━━━\u001b[0m \u001b[32m53.4/53.4 kB\u001b[0m \u001b[31m6.4 MB/s\u001b[0m eta \u001b[36m0:00:00\u001b[0m\n",
            "\u001b[?25hCollecting emoji==1.7.0 (from bnlp_toolkit)\n",
            "  Downloading emoji-1.7.0.tar.gz (175 kB)\n",
            "\u001b[2K     \u001b[90m━━━━━━━━━━━━━━━━━━━━━━━━━━━━━━━━━━━━━━━━\u001b[0m \u001b[32m175.4/175.4 kB\u001b[0m \u001b[31m8.1 MB/s\u001b[0m eta \u001b[36m0:00:00\u001b[0m\n",
            "\u001b[?25h  Preparing metadata (setup.py) ... \u001b[?25l\u001b[?25hdone\n",
            "Requirement already satisfied: requests in /usr/local/lib/python3.10/dist-packages (from bnlp_toolkit) (2.31.0)\n",
            "Requirement already satisfied: wcwidth<0.3.0,>=0.2.12 in /usr/local/lib/python3.10/dist-packages (from ftfy->bnlp_toolkit) (0.2.12)\n",
            "Requirement already satisfied: smart-open>=1.8.1 in /usr/local/lib/python3.10/dist-packages (from gensim->bnlp_toolkit) (6.4.0)\n",
            "Requirement already satisfied: click in /usr/local/lib/python3.10/dist-packages (from nltk->bnlp_toolkit) (8.1.7)\n",
            "Requirement already satisfied: joblib in /usr/local/lib/python3.10/dist-packages (from nltk->bnlp_toolkit) (1.3.2)\n",
            "Requirement already satisfied: regex>=2021.8.3 in /usr/local/lib/python3.10/dist-packages (from nltk->bnlp_toolkit) (2023.6.3)\n",
            "Requirement already satisfied: charset-normalizer<4,>=2 in /usr/local/lib/python3.10/dist-packages (from requests->bnlp_toolkit) (3.3.2)\n",
            "Requirement already satisfied: idna<4,>=2.5 in /usr/local/lib/python3.10/dist-packages (from requests->bnlp_toolkit) (3.6)\n",
            "Requirement already satisfied: urllib3<3,>=1.21.1 in /usr/local/lib/python3.10/dist-packages (from requests->bnlp_toolkit) (2.0.7)\n",
            "Requirement already satisfied: certifi>=2017.4.17 in /usr/local/lib/python3.10/dist-packages (from requests->bnlp_toolkit) (2023.11.17)\n",
            "Collecting python-crfsuite>=0.8.3 (from sklearn-crfsuite->bnlp_toolkit)\n",
            "  Downloading python_crfsuite-0.9.10-cp310-cp310-manylinux_2_17_x86_64.manylinux2014_x86_64.whl (1.1 MB)\n",
            "\u001b[2K     \u001b[90m━━━━━━━━━━━━━━━━━━━━━━━━━━━━━━━━━━━━━━━━\u001b[0m \u001b[32m1.1/1.1 MB\u001b[0m \u001b[31m12.7 MB/s\u001b[0m eta \u001b[36m0:00:00\u001b[0m\n",
            "\u001b[?25hRequirement already satisfied: six in /usr/local/lib/python3.10/dist-packages (from sklearn-crfsuite->bnlp_toolkit) (1.16.0)\n",
            "Requirement already satisfied: tabulate in /usr/local/lib/python3.10/dist-packages (from sklearn-crfsuite->bnlp_toolkit) (0.9.0)\n",
            "Building wheels for collected packages: emoji\n",
            "  Building wheel for emoji (setup.py) ... \u001b[?25l\u001b[?25hdone\n",
            "  Created wheel for emoji: filename=emoji-1.7.0-py3-none-any.whl size=171033 sha256=6a6062548fceb898acf1133a5cc9d96eca36327d3672d38ba9a8f59e86b859c1\n",
            "  Stored in directory: /root/.cache/pip/wheels/31/8a/8c/315c9e5d7773f74b33d5ed33f075b49c6eaeb7cedbb86e2cf8\n",
            "Successfully built emoji\n",
            "Installing collected packages: sentencepiece, python-crfsuite, emoji, sklearn-crfsuite, ftfy, bnlp_toolkit\n",
            "Successfully installed bnlp_toolkit-4.0.0 emoji-1.7.0 ftfy-6.1.3 python-crfsuite-0.9.10 sentencepiece-0.1.99 sklearn-crfsuite-0.3.6\n"
          ]
        }
      ]
    },
    {
      "cell_type": "code",
      "source": [
        "import warnings\n",
        "warnings.filterwarnings('ignore')"
      ],
      "metadata": {
        "id": "zLQCT1De0srM"
      },
      "execution_count": null,
      "outputs": []
    },
    {
      "cell_type": "code",
      "source": [
        "import pandas as pd\n",
        "auth = pd.read_csv(\"drive/MyDrive/news/bengali/Authentic-48K.csv\")\n",
        "fake = pd.read_csv(\"drive/MyDrive/news/bengali/Fake-1K.csv\")"
      ],
      "metadata": {
        "id": "dd-pp7vx6I-L"
      },
      "execution_count": null,
      "outputs": []
    },
    {
      "cell_type": "code",
      "source": [
        "df = auth[:fake.shape[0]]\n",
        "df = df.append(fake)\n",
        "df = df.sample(frac=1).reset_index(drop=True)"
      ],
      "metadata": {
        "id": "f0P9X7WE-UqD"
      },
      "execution_count": null,
      "outputs": []
    },
    {
      "cell_type": "code",
      "source": [
        "df"
      ],
      "metadata": {
        "colab": {
          "base_uri": "https://localhost:8080/",
          "height": 624
        },
        "id": "2FO35w2u2-78",
        "outputId": "1e17b898-7262-40d9-b141-bd96085a1133"
      },
      "execution_count": null,
      "outputs": [
        {
          "output_type": "execute_result",
          "data": {
            "text/plain": [
              "      articleID                    domain                       date  \\\n",
              "0           216    bangla.thereport24.com        2018-09-20 12:29:26   \n",
              "1           364         channeldhaka.news  2018-11-13T16:18:10+00:00   \n",
              "2           969  motikontho.wordpress.com  2012-12-30T16:15:22+00:00   \n",
              "3           929         channeldhaka.news  2019-01-10T03:39:06+00:00   \n",
              "4          1177  motikontho.wordpress.com  2014-10-29T12:17:40+00:00   \n",
              "...         ...                       ...                        ...   \n",
              "2593       1125                 earki.com           সেম্বর ১৮, ২০১৮    \n",
              "2594        278              jugantor.com        2018-09-20 05:52:43   \n",
              "2595        443               samakal.com        2018-09-19 18:36:34   \n",
              "2596        575      bengali.oneindia.com         2019-03-9 20:14:10   \n",
              "2597        353                  rtnn.net        2018-09-21 11:22:20   \n",
              "\n",
              "           category                                           headline  \\\n",
              "0     International      মালয়েশিয়ায় মদ পানে বাংলাদেশিসহ ১৫ জনের মৃত্যু   \n",
              "1            Sports     বিয়ের পর আমার অনেক বেশি উন্নতি হয়েছে: মুশফিক   \n",
              "2     Miscellaneous  আসিফ নজরুল একটি বান্দর: আল্লামা সাঈদী | দৈনিক ...   \n",
              "3          National               বরিশাল হতে যাচ্ছে দ্বিতীয় সিঙ্গাপুর   \n",
              "4          National      আছিলাম কুকুর হইলাম লেজ: মেডাম | দৈনিক মতিকণ্ঠ   \n",
              "...             ...                                                ...   \n",
              "2593  Miscellaneous  ডাক্তারি জগতে এবার এলো নতুন প্রেসক্রিপশন 'নৌকা...   \n",
              "2594      Editorial                        হাবিব-উন নবী সোহেল গ্রেফতার   \n",
              "2595       National      শিক্ষার্থীদের অনুরোধে গান গাইলেন প্রতিমন্ত্রী   \n",
              "2596  Entertainment  হতাশ জুকারবার্গ! সত্যি সত্যি কি ফেসবুক 'ডিলিট'...   \n",
              "2597         Sports            ভারতের বুকে কাঁপন ধরিয়েও হেরে গেলো হংকং   \n",
              "\n",
              "                                                content  label  \n",
              "0     দ্য রিপোর্ট ডেস্ক : মালেশিয়ায় মদপানে এক বাংলাদ...      1  \n",
              "1     সোমবার ঢাকা টেস্টে জিম্বাবুয়ের বিপক্ষে ক্যারি...      0  \n",
              "2     কারাগার মতিবেদকমেশিনের দৈর্ঘ নিয়ে সন্দেহ প্রক...      0  \n",
              "3     বরিশালই হতে যাচ্ছে দ্বিতীয় সিঙ্গাপুর! উন্নয়ন...      0  \n",
              "4     নিজস্ব মতিবেদকআন্তর্জাতিক অপরাধ ট্রাইবুনাল কতৃ...      0  \n",
              "...                                                 ...    ...  \n",
              "2593  যুগ, প্রযুক্তি এবং মেডিকেলশাস্ত্রের উন্নয়নের স...      0  \n",
              "2594  বিএনপির যুগ্ম মহাসচিব ও ঢাকা মহানগর দক্ষিণের স...      1  \n",
              "2595  ﻿তথ্য ও যোগাযোগ প্রযুক্তি প্রতিমন্ত্রী জুনাইদ ...      1  \n",
              "2596  ফেসবুকের তথ্য ফাঁস কেলেঙ্কারিতে মুখ খুললেন মার...      0  \n",
              "2597  খেলা ডেস্ক আরটিএনএন দুবাই: আইসিসির সহযোগী সদস্...      1  \n",
              "\n",
              "[2598 rows x 7 columns]"
            ],
            "text/html": [
              "\n",
              "  <div id=\"df-3cde68b9-1a32-4f55-acd4-79781aab53b7\">\n",
              "    <div class=\"colab-df-container\">\n",
              "      <div>\n",
              "<style scoped>\n",
              "    .dataframe tbody tr th:only-of-type {\n",
              "        vertical-align: middle;\n",
              "    }\n",
              "\n",
              "    .dataframe tbody tr th {\n",
              "        vertical-align: top;\n",
              "    }\n",
              "\n",
              "    .dataframe thead th {\n",
              "        text-align: right;\n",
              "    }\n",
              "</style>\n",
              "<table border=\"1\" class=\"dataframe\">\n",
              "  <thead>\n",
              "    <tr style=\"text-align: right;\">\n",
              "      <th></th>\n",
              "      <th>articleID</th>\n",
              "      <th>domain</th>\n",
              "      <th>date</th>\n",
              "      <th>category</th>\n",
              "      <th>headline</th>\n",
              "      <th>content</th>\n",
              "      <th>label</th>\n",
              "    </tr>\n",
              "  </thead>\n",
              "  <tbody>\n",
              "    <tr>\n",
              "      <th>0</th>\n",
              "      <td>216</td>\n",
              "      <td>bangla.thereport24.com</td>\n",
              "      <td>2018-09-20 12:29:26</td>\n",
              "      <td>International</td>\n",
              "      <td>মালয়েশিয়ায় মদ পানে বাংলাদেশিসহ ১৫ জনের মৃত্যু</td>\n",
              "      <td>দ্য রিপোর্ট ডেস্ক : মালেশিয়ায় মদপানে এক বাংলাদ...</td>\n",
              "      <td>1</td>\n",
              "    </tr>\n",
              "    <tr>\n",
              "      <th>1</th>\n",
              "      <td>364</td>\n",
              "      <td>channeldhaka.news</td>\n",
              "      <td>2018-11-13T16:18:10+00:00</td>\n",
              "      <td>Sports</td>\n",
              "      <td>বিয়ের পর আমার অনেক বেশি উন্নতি হয়েছে: মুশফিক</td>\n",
              "      <td>সোমবার ঢাকা টেস্টে জিম্বাবুয়ের বিপক্ষে ক্যারি...</td>\n",
              "      <td>0</td>\n",
              "    </tr>\n",
              "    <tr>\n",
              "      <th>2</th>\n",
              "      <td>969</td>\n",
              "      <td>motikontho.wordpress.com</td>\n",
              "      <td>2012-12-30T16:15:22+00:00</td>\n",
              "      <td>Miscellaneous</td>\n",
              "      <td>আসিফ নজরুল একটি বান্দর: আল্লামা সাঈদী | দৈনিক ...</td>\n",
              "      <td>কারাগার মতিবেদকমেশিনের দৈর্ঘ নিয়ে সন্দেহ প্রক...</td>\n",
              "      <td>0</td>\n",
              "    </tr>\n",
              "    <tr>\n",
              "      <th>3</th>\n",
              "      <td>929</td>\n",
              "      <td>channeldhaka.news</td>\n",
              "      <td>2019-01-10T03:39:06+00:00</td>\n",
              "      <td>National</td>\n",
              "      <td>বরিশাল হতে যাচ্ছে দ্বিতীয় সিঙ্গাপুর</td>\n",
              "      <td>বরিশালই হতে যাচ্ছে দ্বিতীয় সিঙ্গাপুর! উন্নয়ন...</td>\n",
              "      <td>0</td>\n",
              "    </tr>\n",
              "    <tr>\n",
              "      <th>4</th>\n",
              "      <td>1177</td>\n",
              "      <td>motikontho.wordpress.com</td>\n",
              "      <td>2014-10-29T12:17:40+00:00</td>\n",
              "      <td>National</td>\n",
              "      <td>আছিলাম কুকুর হইলাম লেজ: মেডাম | দৈনিক মতিকণ্ঠ</td>\n",
              "      <td>নিজস্ব মতিবেদকআন্তর্জাতিক অপরাধ ট্রাইবুনাল কতৃ...</td>\n",
              "      <td>0</td>\n",
              "    </tr>\n",
              "    <tr>\n",
              "      <th>...</th>\n",
              "      <td>...</td>\n",
              "      <td>...</td>\n",
              "      <td>...</td>\n",
              "      <td>...</td>\n",
              "      <td>...</td>\n",
              "      <td>...</td>\n",
              "      <td>...</td>\n",
              "    </tr>\n",
              "    <tr>\n",
              "      <th>2593</th>\n",
              "      <td>1125</td>\n",
              "      <td>earki.com</td>\n",
              "      <td>সেম্বর ১৮, ২০১৮</td>\n",
              "      <td>Miscellaneous</td>\n",
              "      <td>ডাক্তারি জগতে এবার এলো নতুন প্রেসক্রিপশন 'নৌকা...</td>\n",
              "      <td>যুগ, প্রযুক্তি এবং মেডিকেলশাস্ত্রের উন্নয়নের স...</td>\n",
              "      <td>0</td>\n",
              "    </tr>\n",
              "    <tr>\n",
              "      <th>2594</th>\n",
              "      <td>278</td>\n",
              "      <td>jugantor.com</td>\n",
              "      <td>2018-09-20 05:52:43</td>\n",
              "      <td>Editorial</td>\n",
              "      <td>হাবিব-উন নবী সোহেল গ্রেফতার</td>\n",
              "      <td>বিএনপির যুগ্ম মহাসচিব ও ঢাকা মহানগর দক্ষিণের স...</td>\n",
              "      <td>1</td>\n",
              "    </tr>\n",
              "    <tr>\n",
              "      <th>2595</th>\n",
              "      <td>443</td>\n",
              "      <td>samakal.com</td>\n",
              "      <td>2018-09-19 18:36:34</td>\n",
              "      <td>National</td>\n",
              "      <td>শিক্ষার্থীদের অনুরোধে গান গাইলেন প্রতিমন্ত্রী</td>\n",
              "      <td>﻿তথ্য ও যোগাযোগ প্রযুক্তি প্রতিমন্ত্রী জুনাইদ ...</td>\n",
              "      <td>1</td>\n",
              "    </tr>\n",
              "    <tr>\n",
              "      <th>2596</th>\n",
              "      <td>575</td>\n",
              "      <td>bengali.oneindia.com</td>\n",
              "      <td>2019-03-9 20:14:10</td>\n",
              "      <td>Entertainment</td>\n",
              "      <td>হতাশ জুকারবার্গ! সত্যি সত্যি কি ফেসবুক 'ডিলিট'...</td>\n",
              "      <td>ফেসবুকের তথ্য ফাঁস কেলেঙ্কারিতে মুখ খুললেন মার...</td>\n",
              "      <td>0</td>\n",
              "    </tr>\n",
              "    <tr>\n",
              "      <th>2597</th>\n",
              "      <td>353</td>\n",
              "      <td>rtnn.net</td>\n",
              "      <td>2018-09-21 11:22:20</td>\n",
              "      <td>Sports</td>\n",
              "      <td>ভারতের বুকে কাঁপন ধরিয়েও হেরে গেলো হংকং</td>\n",
              "      <td>খেলা ডেস্ক আরটিএনএন দুবাই: আইসিসির সহযোগী সদস্...</td>\n",
              "      <td>1</td>\n",
              "    </tr>\n",
              "  </tbody>\n",
              "</table>\n",
              "<p>2598 rows × 7 columns</p>\n",
              "</div>\n",
              "      <button class=\"colab-df-convert\" onclick=\"convertToInteractive('df-3cde68b9-1a32-4f55-acd4-79781aab53b7')\"\n",
              "              title=\"Convert this dataframe to an interactive table.\"\n",
              "              style=\"display:none;\">\n",
              "        \n",
              "  <svg xmlns=\"http://www.w3.org/2000/svg\" height=\"24px\"viewBox=\"0 0 24 24\"\n",
              "       width=\"24px\">\n",
              "    <path d=\"M0 0h24v24H0V0z\" fill=\"none\"/>\n",
              "    <path d=\"M18.56 5.44l.94 2.06.94-2.06 2.06-.94-2.06-.94-.94-2.06-.94 2.06-2.06.94zm-11 1L8.5 8.5l.94-2.06 2.06-.94-2.06-.94L8.5 2.5l-.94 2.06-2.06.94zm10 10l.94 2.06.94-2.06 2.06-.94-2.06-.94-.94-2.06-.94 2.06-2.06.94z\"/><path d=\"M17.41 7.96l-1.37-1.37c-.4-.4-.92-.59-1.43-.59-.52 0-1.04.2-1.43.59L10.3 9.45l-7.72 7.72c-.78.78-.78 2.05 0 2.83L4 21.41c.39.39.9.59 1.41.59.51 0 1.02-.2 1.41-.59l7.78-7.78 2.81-2.81c.8-.78.8-2.07 0-2.86zM5.41 20L4 18.59l7.72-7.72 1.47 1.35L5.41 20z\"/>\n",
              "  </svg>\n",
              "      </button>\n",
              "      \n",
              "  <style>\n",
              "    .colab-df-container {\n",
              "      display:flex;\n",
              "      flex-wrap:wrap;\n",
              "      gap: 12px;\n",
              "    }\n",
              "\n",
              "    .colab-df-convert {\n",
              "      background-color: #E8F0FE;\n",
              "      border: none;\n",
              "      border-radius: 50%;\n",
              "      cursor: pointer;\n",
              "      display: none;\n",
              "      fill: #1967D2;\n",
              "      height: 32px;\n",
              "      padding: 0 0 0 0;\n",
              "      width: 32px;\n",
              "    }\n",
              "\n",
              "    .colab-df-convert:hover {\n",
              "      background-color: #E2EBFA;\n",
              "      box-shadow: 0px 1px 2px rgba(60, 64, 67, 0.3), 0px 1px 3px 1px rgba(60, 64, 67, 0.15);\n",
              "      fill: #174EA6;\n",
              "    }\n",
              "\n",
              "    [theme=dark] .colab-df-convert {\n",
              "      background-color: #3B4455;\n",
              "      fill: #D2E3FC;\n",
              "    }\n",
              "\n",
              "    [theme=dark] .colab-df-convert:hover {\n",
              "      background-color: #434B5C;\n",
              "      box-shadow: 0px 1px 3px 1px rgba(0, 0, 0, 0.15);\n",
              "      filter: drop-shadow(0px 1px 2px rgba(0, 0, 0, 0.3));\n",
              "      fill: #FFFFFF;\n",
              "    }\n",
              "  </style>\n",
              "\n",
              "      <script>\n",
              "        const buttonEl =\n",
              "          document.querySelector('#df-3cde68b9-1a32-4f55-acd4-79781aab53b7 button.colab-df-convert');\n",
              "        buttonEl.style.display =\n",
              "          google.colab.kernel.accessAllowed ? 'block' : 'none';\n",
              "\n",
              "        async function convertToInteractive(key) {\n",
              "          const element = document.querySelector('#df-3cde68b9-1a32-4f55-acd4-79781aab53b7');\n",
              "          const dataTable =\n",
              "            await google.colab.kernel.invokeFunction('convertToInteractive',\n",
              "                                                     [key], {});\n",
              "          if (!dataTable) return;\n",
              "\n",
              "          const docLinkHtml = 'Like what you see? Visit the ' +\n",
              "            '<a target=\"_blank\" href=https://colab.research.google.com/notebooks/data_table.ipynb>data table notebook</a>'\n",
              "            + ' to learn more about interactive tables.';\n",
              "          element.innerHTML = '';\n",
              "          dataTable['output_type'] = 'display_data';\n",
              "          await google.colab.output.renderOutput(dataTable, element);\n",
              "          const docLink = document.createElement('div');\n",
              "          docLink.innerHTML = docLinkHtml;\n",
              "          element.appendChild(docLink);\n",
              "        }\n",
              "      </script>\n",
              "    </div>\n",
              "  </div>\n",
              "  "
            ]
          },
          "metadata": {},
          "execution_count": 45
        }
      ]
    },
    {
      "cell_type": "markdown",
      "source": [
        "Preprocessing"
      ],
      "metadata": {
        "id": "FYCJPWir7laO"
      }
    },
    {
      "cell_type": "code",
      "source": [
        "from bnlp import BasicTokenizer\n",
        "from bnlp_main.bnlp.corpus.corpus import BengaliCorpus\n",
        "\n",
        "btokenizer = BasicTokenizer()\n",
        "\n",
        "def clean_text(text):\n",
        "    tokens = btokenizer.tokenize(text)\n",
        "    filtered = []\n",
        "    for i in tokens:\n",
        "        if i in BengaliCorpus.stopwords:\n",
        "            continue\n",
        "\n",
        "        if i in BengaliCorpus.punctuations + '‘' + '’':\n",
        "            continue\n",
        "\n",
        "        filtered.append(i)\n",
        "\n",
        "    return \" \".join(filtered)\n"
      ],
      "metadata": {
        "id": "6rKIJsi0-SnT",
        "colab": {
          "base_uri": "https://localhost:8080/"
        },
        "outputId": "d3f6779a-7ba5-4158-eab9-a36a04556055"
      },
      "execution_count": 11,
      "outputs": [
        {
          "output_type": "stream",
          "name": "stdout",
          "text": [
            "punkt not found. downloading...\n"
          ]
        },
        {
          "output_type": "stream",
          "name": "stderr",
          "text": [
            "[nltk_data] Downloading package punkt to /root/nltk_data...\n",
            "[nltk_data]   Unzipping tokenizers/punkt.zip.\n"
          ]
        }
      ]
    },
    {
      "cell_type": "code",
      "source": [
        "df['headline'] = df.headline.apply(clean_text)\n",
        "df['content'] = df.content.apply(clean_text)"
      ],
      "metadata": {
        "id": "UoYJhM2XBX_g"
      },
      "execution_count": null,
      "outputs": []
    },
    {
      "cell_type": "code",
      "source": [
        "df"
      ],
      "metadata": {
        "colab": {
          "base_uri": "https://localhost:8080/",
          "height": 572
        },
        "id": "kLfJdsg43Quk",
        "outputId": "468dcac3-7826-48c3-87f9-b420fa6b21d4"
      },
      "execution_count": null,
      "outputs": [
        {
          "output_type": "execute_result",
          "data": {
            "text/plain": [
              "      articleID                    domain                       date  \\\n",
              "0           216    bangla.thereport24.com        2018-09-20 12:29:26   \n",
              "1           364         channeldhaka.news  2018-11-13T16:18:10+00:00   \n",
              "2           969  motikontho.wordpress.com  2012-12-30T16:15:22+00:00   \n",
              "3           929         channeldhaka.news  2019-01-10T03:39:06+00:00   \n",
              "4          1177  motikontho.wordpress.com  2014-10-29T12:17:40+00:00   \n",
              "...         ...                       ...                        ...   \n",
              "2593       1125                 earki.com           সেম্বর ১৮, ২০১৮    \n",
              "2594        278              jugantor.com        2018-09-20 05:52:43   \n",
              "2595        443               samakal.com        2018-09-19 18:36:34   \n",
              "2596        575      bengali.oneindia.com         2019-03-9 20:14:10   \n",
              "2597        353                  rtnn.net        2018-09-21 11:22:20   \n",
              "\n",
              "           category                                           headline  \\\n",
              "0     International           মালয়েশিয়ায় মদ পানে বাংলাদেশিসহ ১৫ মৃত্যু   \n",
              "1            Sports                               বিয়ের উন্নতি মুশফিক   \n",
              "2     Miscellaneous      আসিফ নজরুল বান্দর আল্লামা সাঈদী দৈনিক মতিকণ্ঠ   \n",
              "3          National                          বরিশাল দ্বিতীয় সিঙ্গাপুর   \n",
              "4          National         আছিলাম কুকুর হইলাম লেজ মেডাম দৈনিক মতিকণ্ঠ   \n",
              "...             ...                                                ...   \n",
              "2593  Miscellaneous           ডাক্তারি জগতে এলো প্রেসক্রিপশন নৌকা বেলা   \n",
              "2594      Editorial                        হাবিব উন নবী সোহেল গ্রেফতার   \n",
              "2595       National      শিক্ষার্থীদের অনুরোধে গান গাইলেন প্রতিমন্ত্রী   \n",
              "2596  Entertainment  হতাশ জুকারবার্গ সত্যি সত্যি ফেসবুক ডিলিট তথ্য ...   \n",
              "2597         Sports            ভারতের বুকে কাঁপন ধরিয়েও হেরে গেলো হংকং   \n",
              "\n",
              "                                                content  label  \n",
              "0     দ্য রিপোর্ট ডেস্ক মালেশিয়ায় মদপানে এক বাংলাদেশ...      1  \n",
              "1     সোমবার ঢাকা টেস্টে জিম্বাবুয়ের বিপক্ষে ক্যারি...      0  \n",
              "2     কারাগার মতিবেদকমেশিনের দৈর্ঘ সন্দেহ প্রকাশ বৃহ...      0  \n",
              "3     বরিশালই দ্বিতীয় সিঙ্গাপুর উন্নয়নের ধারা অব্য...      0  \n",
              "4     নিজস্ব মতিবেদকআন্তর্জাতিক অপরাধ ট্রাইবুনাল কতৃ...      0  \n",
              "...                                                 ...    ...  \n",
              "2593  যুগ প্রযুক্তি মেডিকেলশাস্ত্রের উন্নয়নের ডাক্তা...      0  \n",
              "2594  বিএনপির যুগ্ম মহাসচিব ঢাকা মহানগর দক্ষিণের সভা...      1  \n",
              "2595  ﻿তথ্য যোগাযোগ প্রযুক্তি প্রতিমন্ত্রী জুনাইদ আহ...      1  \n",
              "2596  ফেসবুকের তথ্য ফাঁস কেলেঙ্কারিতে মুখ খুললেন মার...      0  \n",
              "2597  খেলা ডেস্ক আরটিএনএন দুবাই আইসিসির সহযোগী সদস্য...      1  \n",
              "\n",
              "[2598 rows x 7 columns]"
            ],
            "text/html": [
              "\n",
              "  <div id=\"df-e4c40292-531a-44dd-8c12-8e31730c6006\">\n",
              "    <div class=\"colab-df-container\">\n",
              "      <div>\n",
              "<style scoped>\n",
              "    .dataframe tbody tr th:only-of-type {\n",
              "        vertical-align: middle;\n",
              "    }\n",
              "\n",
              "    .dataframe tbody tr th {\n",
              "        vertical-align: top;\n",
              "    }\n",
              "\n",
              "    .dataframe thead th {\n",
              "        text-align: right;\n",
              "    }\n",
              "</style>\n",
              "<table border=\"1\" class=\"dataframe\">\n",
              "  <thead>\n",
              "    <tr style=\"text-align: right;\">\n",
              "      <th></th>\n",
              "      <th>articleID</th>\n",
              "      <th>domain</th>\n",
              "      <th>date</th>\n",
              "      <th>category</th>\n",
              "      <th>headline</th>\n",
              "      <th>content</th>\n",
              "      <th>label</th>\n",
              "    </tr>\n",
              "  </thead>\n",
              "  <tbody>\n",
              "    <tr>\n",
              "      <th>0</th>\n",
              "      <td>216</td>\n",
              "      <td>bangla.thereport24.com</td>\n",
              "      <td>2018-09-20 12:29:26</td>\n",
              "      <td>International</td>\n",
              "      <td>মালয়েশিয়ায় মদ পানে বাংলাদেশিসহ ১৫ মৃত্যু</td>\n",
              "      <td>দ্য রিপোর্ট ডেস্ক মালেশিয়ায় মদপানে এক বাংলাদেশ...</td>\n",
              "      <td>1</td>\n",
              "    </tr>\n",
              "    <tr>\n",
              "      <th>1</th>\n",
              "      <td>364</td>\n",
              "      <td>channeldhaka.news</td>\n",
              "      <td>2018-11-13T16:18:10+00:00</td>\n",
              "      <td>Sports</td>\n",
              "      <td>বিয়ের উন্নতি মুশফিক</td>\n",
              "      <td>সোমবার ঢাকা টেস্টে জিম্বাবুয়ের বিপক্ষে ক্যারি...</td>\n",
              "      <td>0</td>\n",
              "    </tr>\n",
              "    <tr>\n",
              "      <th>2</th>\n",
              "      <td>969</td>\n",
              "      <td>motikontho.wordpress.com</td>\n",
              "      <td>2012-12-30T16:15:22+00:00</td>\n",
              "      <td>Miscellaneous</td>\n",
              "      <td>আসিফ নজরুল বান্দর আল্লামা সাঈদী দৈনিক মতিকণ্ঠ</td>\n",
              "      <td>কারাগার মতিবেদকমেশিনের দৈর্ঘ সন্দেহ প্রকাশ বৃহ...</td>\n",
              "      <td>0</td>\n",
              "    </tr>\n",
              "    <tr>\n",
              "      <th>3</th>\n",
              "      <td>929</td>\n",
              "      <td>channeldhaka.news</td>\n",
              "      <td>2019-01-10T03:39:06+00:00</td>\n",
              "      <td>National</td>\n",
              "      <td>বরিশাল দ্বিতীয় সিঙ্গাপুর</td>\n",
              "      <td>বরিশালই দ্বিতীয় সিঙ্গাপুর উন্নয়নের ধারা অব্য...</td>\n",
              "      <td>0</td>\n",
              "    </tr>\n",
              "    <tr>\n",
              "      <th>4</th>\n",
              "      <td>1177</td>\n",
              "      <td>motikontho.wordpress.com</td>\n",
              "      <td>2014-10-29T12:17:40+00:00</td>\n",
              "      <td>National</td>\n",
              "      <td>আছিলাম কুকুর হইলাম লেজ মেডাম দৈনিক মতিকণ্ঠ</td>\n",
              "      <td>নিজস্ব মতিবেদকআন্তর্জাতিক অপরাধ ট্রাইবুনাল কতৃ...</td>\n",
              "      <td>0</td>\n",
              "    </tr>\n",
              "    <tr>\n",
              "      <th>...</th>\n",
              "      <td>...</td>\n",
              "      <td>...</td>\n",
              "      <td>...</td>\n",
              "      <td>...</td>\n",
              "      <td>...</td>\n",
              "      <td>...</td>\n",
              "      <td>...</td>\n",
              "    </tr>\n",
              "    <tr>\n",
              "      <th>2593</th>\n",
              "      <td>1125</td>\n",
              "      <td>earki.com</td>\n",
              "      <td>সেম্বর ১৮, ২০১৮</td>\n",
              "      <td>Miscellaneous</td>\n",
              "      <td>ডাক্তারি জগতে এলো প্রেসক্রিপশন নৌকা বেলা</td>\n",
              "      <td>যুগ প্রযুক্তি মেডিকেলশাস্ত্রের উন্নয়নের ডাক্তা...</td>\n",
              "      <td>0</td>\n",
              "    </tr>\n",
              "    <tr>\n",
              "      <th>2594</th>\n",
              "      <td>278</td>\n",
              "      <td>jugantor.com</td>\n",
              "      <td>2018-09-20 05:52:43</td>\n",
              "      <td>Editorial</td>\n",
              "      <td>হাবিব উন নবী সোহেল গ্রেফতার</td>\n",
              "      <td>বিএনপির যুগ্ম মহাসচিব ঢাকা মহানগর দক্ষিণের সভা...</td>\n",
              "      <td>1</td>\n",
              "    </tr>\n",
              "    <tr>\n",
              "      <th>2595</th>\n",
              "      <td>443</td>\n",
              "      <td>samakal.com</td>\n",
              "      <td>2018-09-19 18:36:34</td>\n",
              "      <td>National</td>\n",
              "      <td>শিক্ষার্থীদের অনুরোধে গান গাইলেন প্রতিমন্ত্রী</td>\n",
              "      <td>﻿তথ্য যোগাযোগ প্রযুক্তি প্রতিমন্ত্রী জুনাইদ আহ...</td>\n",
              "      <td>1</td>\n",
              "    </tr>\n",
              "    <tr>\n",
              "      <th>2596</th>\n",
              "      <td>575</td>\n",
              "      <td>bengali.oneindia.com</td>\n",
              "      <td>2019-03-9 20:14:10</td>\n",
              "      <td>Entertainment</td>\n",
              "      <td>হতাশ জুকারবার্গ সত্যি সত্যি ফেসবুক ডিলিট তথ্য ...</td>\n",
              "      <td>ফেসবুকের তথ্য ফাঁস কেলেঙ্কারিতে মুখ খুললেন মার...</td>\n",
              "      <td>0</td>\n",
              "    </tr>\n",
              "    <tr>\n",
              "      <th>2597</th>\n",
              "      <td>353</td>\n",
              "      <td>rtnn.net</td>\n",
              "      <td>2018-09-21 11:22:20</td>\n",
              "      <td>Sports</td>\n",
              "      <td>ভারতের বুকে কাঁপন ধরিয়েও হেরে গেলো হংকং</td>\n",
              "      <td>খেলা ডেস্ক আরটিএনএন দুবাই আইসিসির সহযোগী সদস্য...</td>\n",
              "      <td>1</td>\n",
              "    </tr>\n",
              "  </tbody>\n",
              "</table>\n",
              "<p>2598 rows × 7 columns</p>\n",
              "</div>\n",
              "      <button class=\"colab-df-convert\" onclick=\"convertToInteractive('df-e4c40292-531a-44dd-8c12-8e31730c6006')\"\n",
              "              title=\"Convert this dataframe to an interactive table.\"\n",
              "              style=\"display:none;\">\n",
              "        \n",
              "  <svg xmlns=\"http://www.w3.org/2000/svg\" height=\"24px\"viewBox=\"0 0 24 24\"\n",
              "       width=\"24px\">\n",
              "    <path d=\"M0 0h24v24H0V0z\" fill=\"none\"/>\n",
              "    <path d=\"M18.56 5.44l.94 2.06.94-2.06 2.06-.94-2.06-.94-.94-2.06-.94 2.06-2.06.94zm-11 1L8.5 8.5l.94-2.06 2.06-.94-2.06-.94L8.5 2.5l-.94 2.06-2.06.94zm10 10l.94 2.06.94-2.06 2.06-.94-2.06-.94-.94-2.06-.94 2.06-2.06.94z\"/><path d=\"M17.41 7.96l-1.37-1.37c-.4-.4-.92-.59-1.43-.59-.52 0-1.04.2-1.43.59L10.3 9.45l-7.72 7.72c-.78.78-.78 2.05 0 2.83L4 21.41c.39.39.9.59 1.41.59.51 0 1.02-.2 1.41-.59l7.78-7.78 2.81-2.81c.8-.78.8-2.07 0-2.86zM5.41 20L4 18.59l7.72-7.72 1.47 1.35L5.41 20z\"/>\n",
              "  </svg>\n",
              "      </button>\n",
              "      \n",
              "  <style>\n",
              "    .colab-df-container {\n",
              "      display:flex;\n",
              "      flex-wrap:wrap;\n",
              "      gap: 12px;\n",
              "    }\n",
              "\n",
              "    .colab-df-convert {\n",
              "      background-color: #E8F0FE;\n",
              "      border: none;\n",
              "      border-radius: 50%;\n",
              "      cursor: pointer;\n",
              "      display: none;\n",
              "      fill: #1967D2;\n",
              "      height: 32px;\n",
              "      padding: 0 0 0 0;\n",
              "      width: 32px;\n",
              "    }\n",
              "\n",
              "    .colab-df-convert:hover {\n",
              "      background-color: #E2EBFA;\n",
              "      box-shadow: 0px 1px 2px rgba(60, 64, 67, 0.3), 0px 1px 3px 1px rgba(60, 64, 67, 0.15);\n",
              "      fill: #174EA6;\n",
              "    }\n",
              "\n",
              "    [theme=dark] .colab-df-convert {\n",
              "      background-color: #3B4455;\n",
              "      fill: #D2E3FC;\n",
              "    }\n",
              "\n",
              "    [theme=dark] .colab-df-convert:hover {\n",
              "      background-color: #434B5C;\n",
              "      box-shadow: 0px 1px 3px 1px rgba(0, 0, 0, 0.15);\n",
              "      filter: drop-shadow(0px 1px 2px rgba(0, 0, 0, 0.3));\n",
              "      fill: #FFFFFF;\n",
              "    }\n",
              "  </style>\n",
              "\n",
              "      <script>\n",
              "        const buttonEl =\n",
              "          document.querySelector('#df-e4c40292-531a-44dd-8c12-8e31730c6006 button.colab-df-convert');\n",
              "        buttonEl.style.display =\n",
              "          google.colab.kernel.accessAllowed ? 'block' : 'none';\n",
              "\n",
              "        async function convertToInteractive(key) {\n",
              "          const element = document.querySelector('#df-e4c40292-531a-44dd-8c12-8e31730c6006');\n",
              "          const dataTable =\n",
              "            await google.colab.kernel.invokeFunction('convertToInteractive',\n",
              "                                                     [key], {});\n",
              "          if (!dataTable) return;\n",
              "\n",
              "          const docLinkHtml = 'Like what you see? Visit the ' +\n",
              "            '<a target=\"_blank\" href=https://colab.research.google.com/notebooks/data_table.ipynb>data table notebook</a>'\n",
              "            + ' to learn more about interactive tables.';\n",
              "          element.innerHTML = '';\n",
              "          dataTable['output_type'] = 'display_data';\n",
              "          await google.colab.output.renderOutput(dataTable, element);\n",
              "          const docLink = document.createElement('div');\n",
              "          docLink.innerHTML = docLinkHtml;\n",
              "          element.appendChild(docLink);\n",
              "        }\n",
              "      </script>\n",
              "    </div>\n",
              "  </div>\n",
              "  "
            ]
          },
          "metadata": {},
          "execution_count": 47
        }
      ]
    },
    {
      "cell_type": "code",
      "source": [
        "# dropping unncessary columns\n",
        "df = df.drop(['articleID','domain','date','category'],axis=1)"
      ],
      "metadata": {
        "id": "JHsACqkvBZV4"
      },
      "execution_count": null,
      "outputs": []
    },
    {
      "cell_type": "markdown",
      "source": [
        "Text Representation"
      ],
      "metadata": {
        "id": "BZFUIpVLDVyS"
      }
    },
    {
      "cell_type": "code",
      "source": [
        "X = df.iloc[:, 1]\n",
        "y = df.iloc[:, 2]"
      ],
      "metadata": {
        "id": "rWE0GqHyDVyS"
      },
      "execution_count": null,
      "outputs": []
    },
    {
      "cell_type": "code",
      "source": [
        "from sklearn.feature_extraction.text import CountVectorizer, TfidfVectorizer\n",
        "ben_vectorizer = CountVectorizer(max_features=5000)\n",
        "bow_data = ben_vectorizer.fit_transform(X).toarray()\n",
        "features = ben_vectorizer.get_feature_names_out()\n",
        "bow_data = pd.DataFrame(bow_data, columns=features)"
      ],
      "metadata": {
        "id": "O33h-jViDVyT"
      },
      "execution_count": null,
      "outputs": []
    },
    {
      "cell_type": "code",
      "source": [
        "# pickle.dump(ben_vectorizer,open(\"/content/drive/MyDrive/news/bengali/bengali_vec.p\",\"wb\"))"
      ],
      "metadata": {
        "id": "O5d7fY1SbmDV"
      },
      "execution_count": null,
      "outputs": []
    },
    {
      "cell_type": "code",
      "source": [
        "bow_data"
      ],
      "metadata": {
        "colab": {
          "base_uri": "https://localhost:8080/",
          "height": 423
        },
        "id": "ulDRyfb03eKN",
        "outputId": "9633df3c-b5ca-4452-f657-ea149395b8b4"
      },
      "execution_count": null,
      "outputs": [
        {
          "output_type": "execute_result",
          "data": {
            "text/plain": [
              "      2018  24  24sharetweet  3d  500  7777  abbey  abul  ac  account  ...  \\\n",
              "0        0   0             0   0    0     0      0     0   0        0  ...   \n",
              "1        0   0             0   0    0     0      0     0   0        0  ...   \n",
              "2        0   0             0   0    0     0      0     0   0        0  ...   \n",
              "3        0   0             0   0    0     0      0     0   0        0  ...   \n",
              "4        0   0             0   0    0     0      0     0   0        0  ...   \n",
              "...    ...  ..           ...  ..  ...   ...    ...   ...  ..      ...  ...   \n",
              "2593     0   0             0   0    0     0      0     0   0        0  ...   \n",
              "2594     0   0             0   0    0     0      0     0   0        0  ...   \n",
              "2595     0   0             0   0    0     0      0     0   0        0  ...   \n",
              "2596     0   0             0   0    0     0      0     0   0        0  ...   \n",
              "2597     0   0             0   0    0     0      0     0   0        0  ...   \n",
              "\n",
              "      ৯৮  ৯৮ট  ৯৮৭  ৯৯  ৯৯৫  ৯৯৯  ৷গ  ৷তব  ৷দ  ৷ব  \n",
              "0      0    0    0   0    0    0   0    0   0   0  \n",
              "1      0    0    0   0    0    1   0    0   0   0  \n",
              "2      0    0    0   0    0    0   0    0   0   0  \n",
              "3      0    0    0   0    0    0   0    0   0   0  \n",
              "4      0    0    0   0    0    0   0    0   0   0  \n",
              "...   ..  ...  ...  ..  ...  ...  ..  ...  ..  ..  \n",
              "2593   0    0    0   0    0    0   0    0   0   0  \n",
              "2594   0    0    0   0    0    0   0    0   0   0  \n",
              "2595   0    0    0   0    0    0   0    0   0   0  \n",
              "2596   0    0    0   0    0    0   0    0   0   0  \n",
              "2597   0    0    0   1    0    0   0    0   0   0  \n",
              "\n",
              "[2598 rows x 5000 columns]"
            ],
            "text/html": [
              "\n",
              "  <div id=\"df-7cc57c6f-f4c5-4768-80b4-c26cb96803d8\">\n",
              "    <div class=\"colab-df-container\">\n",
              "      <div>\n",
              "<style scoped>\n",
              "    .dataframe tbody tr th:only-of-type {\n",
              "        vertical-align: middle;\n",
              "    }\n",
              "\n",
              "    .dataframe tbody tr th {\n",
              "        vertical-align: top;\n",
              "    }\n",
              "\n",
              "    .dataframe thead th {\n",
              "        text-align: right;\n",
              "    }\n",
              "</style>\n",
              "<table border=\"1\" class=\"dataframe\">\n",
              "  <thead>\n",
              "    <tr style=\"text-align: right;\">\n",
              "      <th></th>\n",
              "      <th>2018</th>\n",
              "      <th>24</th>\n",
              "      <th>24sharetweet</th>\n",
              "      <th>3d</th>\n",
              "      <th>500</th>\n",
              "      <th>7777</th>\n",
              "      <th>abbey</th>\n",
              "      <th>abul</th>\n",
              "      <th>ac</th>\n",
              "      <th>account</th>\n",
              "      <th>...</th>\n",
              "      <th>৯৮</th>\n",
              "      <th>৯৮ট</th>\n",
              "      <th>৯৮৭</th>\n",
              "      <th>৯৯</th>\n",
              "      <th>৯৯৫</th>\n",
              "      <th>৯৯৯</th>\n",
              "      <th>৷গ</th>\n",
              "      <th>৷তব</th>\n",
              "      <th>৷দ</th>\n",
              "      <th>৷ব</th>\n",
              "    </tr>\n",
              "  </thead>\n",
              "  <tbody>\n",
              "    <tr>\n",
              "      <th>0</th>\n",
              "      <td>0</td>\n",
              "      <td>0</td>\n",
              "      <td>0</td>\n",
              "      <td>0</td>\n",
              "      <td>0</td>\n",
              "      <td>0</td>\n",
              "      <td>0</td>\n",
              "      <td>0</td>\n",
              "      <td>0</td>\n",
              "      <td>0</td>\n",
              "      <td>...</td>\n",
              "      <td>0</td>\n",
              "      <td>0</td>\n",
              "      <td>0</td>\n",
              "      <td>0</td>\n",
              "      <td>0</td>\n",
              "      <td>0</td>\n",
              "      <td>0</td>\n",
              "      <td>0</td>\n",
              "      <td>0</td>\n",
              "      <td>0</td>\n",
              "    </tr>\n",
              "    <tr>\n",
              "      <th>1</th>\n",
              "      <td>0</td>\n",
              "      <td>0</td>\n",
              "      <td>0</td>\n",
              "      <td>0</td>\n",
              "      <td>0</td>\n",
              "      <td>0</td>\n",
              "      <td>0</td>\n",
              "      <td>0</td>\n",
              "      <td>0</td>\n",
              "      <td>0</td>\n",
              "      <td>...</td>\n",
              "      <td>0</td>\n",
              "      <td>0</td>\n",
              "      <td>0</td>\n",
              "      <td>0</td>\n",
              "      <td>0</td>\n",
              "      <td>1</td>\n",
              "      <td>0</td>\n",
              "      <td>0</td>\n",
              "      <td>0</td>\n",
              "      <td>0</td>\n",
              "    </tr>\n",
              "    <tr>\n",
              "      <th>2</th>\n",
              "      <td>0</td>\n",
              "      <td>0</td>\n",
              "      <td>0</td>\n",
              "      <td>0</td>\n",
              "      <td>0</td>\n",
              "      <td>0</td>\n",
              "      <td>0</td>\n",
              "      <td>0</td>\n",
              "      <td>0</td>\n",
              "      <td>0</td>\n",
              "      <td>...</td>\n",
              "      <td>0</td>\n",
              "      <td>0</td>\n",
              "      <td>0</td>\n",
              "      <td>0</td>\n",
              "      <td>0</td>\n",
              "      <td>0</td>\n",
              "      <td>0</td>\n",
              "      <td>0</td>\n",
              "      <td>0</td>\n",
              "      <td>0</td>\n",
              "    </tr>\n",
              "    <tr>\n",
              "      <th>3</th>\n",
              "      <td>0</td>\n",
              "      <td>0</td>\n",
              "      <td>0</td>\n",
              "      <td>0</td>\n",
              "      <td>0</td>\n",
              "      <td>0</td>\n",
              "      <td>0</td>\n",
              "      <td>0</td>\n",
              "      <td>0</td>\n",
              "      <td>0</td>\n",
              "      <td>...</td>\n",
              "      <td>0</td>\n",
              "      <td>0</td>\n",
              "      <td>0</td>\n",
              "      <td>0</td>\n",
              "      <td>0</td>\n",
              "      <td>0</td>\n",
              "      <td>0</td>\n",
              "      <td>0</td>\n",
              "      <td>0</td>\n",
              "      <td>0</td>\n",
              "    </tr>\n",
              "    <tr>\n",
              "      <th>4</th>\n",
              "      <td>0</td>\n",
              "      <td>0</td>\n",
              "      <td>0</td>\n",
              "      <td>0</td>\n",
              "      <td>0</td>\n",
              "      <td>0</td>\n",
              "      <td>0</td>\n",
              "      <td>0</td>\n",
              "      <td>0</td>\n",
              "      <td>0</td>\n",
              "      <td>...</td>\n",
              "      <td>0</td>\n",
              "      <td>0</td>\n",
              "      <td>0</td>\n",
              "      <td>0</td>\n",
              "      <td>0</td>\n",
              "      <td>0</td>\n",
              "      <td>0</td>\n",
              "      <td>0</td>\n",
              "      <td>0</td>\n",
              "      <td>0</td>\n",
              "    </tr>\n",
              "    <tr>\n",
              "      <th>...</th>\n",
              "      <td>...</td>\n",
              "      <td>...</td>\n",
              "      <td>...</td>\n",
              "      <td>...</td>\n",
              "      <td>...</td>\n",
              "      <td>...</td>\n",
              "      <td>...</td>\n",
              "      <td>...</td>\n",
              "      <td>...</td>\n",
              "      <td>...</td>\n",
              "      <td>...</td>\n",
              "      <td>...</td>\n",
              "      <td>...</td>\n",
              "      <td>...</td>\n",
              "      <td>...</td>\n",
              "      <td>...</td>\n",
              "      <td>...</td>\n",
              "      <td>...</td>\n",
              "      <td>...</td>\n",
              "      <td>...</td>\n",
              "      <td>...</td>\n",
              "    </tr>\n",
              "    <tr>\n",
              "      <th>2593</th>\n",
              "      <td>0</td>\n",
              "      <td>0</td>\n",
              "      <td>0</td>\n",
              "      <td>0</td>\n",
              "      <td>0</td>\n",
              "      <td>0</td>\n",
              "      <td>0</td>\n",
              "      <td>0</td>\n",
              "      <td>0</td>\n",
              "      <td>0</td>\n",
              "      <td>...</td>\n",
              "      <td>0</td>\n",
              "      <td>0</td>\n",
              "      <td>0</td>\n",
              "      <td>0</td>\n",
              "      <td>0</td>\n",
              "      <td>0</td>\n",
              "      <td>0</td>\n",
              "      <td>0</td>\n",
              "      <td>0</td>\n",
              "      <td>0</td>\n",
              "    </tr>\n",
              "    <tr>\n",
              "      <th>2594</th>\n",
              "      <td>0</td>\n",
              "      <td>0</td>\n",
              "      <td>0</td>\n",
              "      <td>0</td>\n",
              "      <td>0</td>\n",
              "      <td>0</td>\n",
              "      <td>0</td>\n",
              "      <td>0</td>\n",
              "      <td>0</td>\n",
              "      <td>0</td>\n",
              "      <td>...</td>\n",
              "      <td>0</td>\n",
              "      <td>0</td>\n",
              "      <td>0</td>\n",
              "      <td>0</td>\n",
              "      <td>0</td>\n",
              "      <td>0</td>\n",
              "      <td>0</td>\n",
              "      <td>0</td>\n",
              "      <td>0</td>\n",
              "      <td>0</td>\n",
              "    </tr>\n",
              "    <tr>\n",
              "      <th>2595</th>\n",
              "      <td>0</td>\n",
              "      <td>0</td>\n",
              "      <td>0</td>\n",
              "      <td>0</td>\n",
              "      <td>0</td>\n",
              "      <td>0</td>\n",
              "      <td>0</td>\n",
              "      <td>0</td>\n",
              "      <td>0</td>\n",
              "      <td>0</td>\n",
              "      <td>...</td>\n",
              "      <td>0</td>\n",
              "      <td>0</td>\n",
              "      <td>0</td>\n",
              "      <td>0</td>\n",
              "      <td>0</td>\n",
              "      <td>0</td>\n",
              "      <td>0</td>\n",
              "      <td>0</td>\n",
              "      <td>0</td>\n",
              "      <td>0</td>\n",
              "    </tr>\n",
              "    <tr>\n",
              "      <th>2596</th>\n",
              "      <td>0</td>\n",
              "      <td>0</td>\n",
              "      <td>0</td>\n",
              "      <td>0</td>\n",
              "      <td>0</td>\n",
              "      <td>0</td>\n",
              "      <td>0</td>\n",
              "      <td>0</td>\n",
              "      <td>0</td>\n",
              "      <td>0</td>\n",
              "      <td>...</td>\n",
              "      <td>0</td>\n",
              "      <td>0</td>\n",
              "      <td>0</td>\n",
              "      <td>0</td>\n",
              "      <td>0</td>\n",
              "      <td>0</td>\n",
              "      <td>0</td>\n",
              "      <td>0</td>\n",
              "      <td>0</td>\n",
              "      <td>0</td>\n",
              "    </tr>\n",
              "    <tr>\n",
              "      <th>2597</th>\n",
              "      <td>0</td>\n",
              "      <td>0</td>\n",
              "      <td>0</td>\n",
              "      <td>0</td>\n",
              "      <td>0</td>\n",
              "      <td>0</td>\n",
              "      <td>0</td>\n",
              "      <td>0</td>\n",
              "      <td>0</td>\n",
              "      <td>0</td>\n",
              "      <td>...</td>\n",
              "      <td>0</td>\n",
              "      <td>0</td>\n",
              "      <td>0</td>\n",
              "      <td>1</td>\n",
              "      <td>0</td>\n",
              "      <td>0</td>\n",
              "      <td>0</td>\n",
              "      <td>0</td>\n",
              "      <td>0</td>\n",
              "      <td>0</td>\n",
              "    </tr>\n",
              "  </tbody>\n",
              "</table>\n",
              "<p>2598 rows × 5000 columns</p>\n",
              "</div>\n",
              "      <button class=\"colab-df-convert\" onclick=\"convertToInteractive('df-7cc57c6f-f4c5-4768-80b4-c26cb96803d8')\"\n",
              "              title=\"Convert this dataframe to an interactive table.\"\n",
              "              style=\"display:none;\">\n",
              "        \n",
              "  <svg xmlns=\"http://www.w3.org/2000/svg\" height=\"24px\"viewBox=\"0 0 24 24\"\n",
              "       width=\"24px\">\n",
              "    <path d=\"M0 0h24v24H0V0z\" fill=\"none\"/>\n",
              "    <path d=\"M18.56 5.44l.94 2.06.94-2.06 2.06-.94-2.06-.94-.94-2.06-.94 2.06-2.06.94zm-11 1L8.5 8.5l.94-2.06 2.06-.94-2.06-.94L8.5 2.5l-.94 2.06-2.06.94zm10 10l.94 2.06.94-2.06 2.06-.94-2.06-.94-.94-2.06-.94 2.06-2.06.94z\"/><path d=\"M17.41 7.96l-1.37-1.37c-.4-.4-.92-.59-1.43-.59-.52 0-1.04.2-1.43.59L10.3 9.45l-7.72 7.72c-.78.78-.78 2.05 0 2.83L4 21.41c.39.39.9.59 1.41.59.51 0 1.02-.2 1.41-.59l7.78-7.78 2.81-2.81c.8-.78.8-2.07 0-2.86zM5.41 20L4 18.59l7.72-7.72 1.47 1.35L5.41 20z\"/>\n",
              "  </svg>\n",
              "      </button>\n",
              "      \n",
              "  <style>\n",
              "    .colab-df-container {\n",
              "      display:flex;\n",
              "      flex-wrap:wrap;\n",
              "      gap: 12px;\n",
              "    }\n",
              "\n",
              "    .colab-df-convert {\n",
              "      background-color: #E8F0FE;\n",
              "      border: none;\n",
              "      border-radius: 50%;\n",
              "      cursor: pointer;\n",
              "      display: none;\n",
              "      fill: #1967D2;\n",
              "      height: 32px;\n",
              "      padding: 0 0 0 0;\n",
              "      width: 32px;\n",
              "    }\n",
              "\n",
              "    .colab-df-convert:hover {\n",
              "      background-color: #E2EBFA;\n",
              "      box-shadow: 0px 1px 2px rgba(60, 64, 67, 0.3), 0px 1px 3px 1px rgba(60, 64, 67, 0.15);\n",
              "      fill: #174EA6;\n",
              "    }\n",
              "\n",
              "    [theme=dark] .colab-df-convert {\n",
              "      background-color: #3B4455;\n",
              "      fill: #D2E3FC;\n",
              "    }\n",
              "\n",
              "    [theme=dark] .colab-df-convert:hover {\n",
              "      background-color: #434B5C;\n",
              "      box-shadow: 0px 1px 3px 1px rgba(0, 0, 0, 0.15);\n",
              "      filter: drop-shadow(0px 1px 2px rgba(0, 0, 0, 0.3));\n",
              "      fill: #FFFFFF;\n",
              "    }\n",
              "  </style>\n",
              "\n",
              "      <script>\n",
              "        const buttonEl =\n",
              "          document.querySelector('#df-7cc57c6f-f4c5-4768-80b4-c26cb96803d8 button.colab-df-convert');\n",
              "        buttonEl.style.display =\n",
              "          google.colab.kernel.accessAllowed ? 'block' : 'none';\n",
              "\n",
              "        async function convertToInteractive(key) {\n",
              "          const element = document.querySelector('#df-7cc57c6f-f4c5-4768-80b4-c26cb96803d8');\n",
              "          const dataTable =\n",
              "            await google.colab.kernel.invokeFunction('convertToInteractive',\n",
              "                                                     [key], {});\n",
              "          if (!dataTable) return;\n",
              "\n",
              "          const docLinkHtml = 'Like what you see? Visit the ' +\n",
              "            '<a target=\"_blank\" href=https://colab.research.google.com/notebooks/data_table.ipynb>data table notebook</a>'\n",
              "            + ' to learn more about interactive tables.';\n",
              "          element.innerHTML = '';\n",
              "          dataTable['output_type'] = 'display_data';\n",
              "          await google.colab.output.renderOutput(dataTable, element);\n",
              "          const docLink = document.createElement('div');\n",
              "          docLink.innerHTML = docLinkHtml;\n",
              "          element.appendChild(docLink);\n",
              "        }\n",
              "      </script>\n",
              "    </div>\n",
              "  </div>\n",
              "  "
            ]
          },
          "metadata": {},
          "execution_count": 57
        }
      ]
    },
    {
      "cell_type": "markdown",
      "source": [
        "Training"
      ],
      "metadata": {
        "id": "1p06AxvrDVyT"
      }
    },
    {
      "cell_type": "code",
      "source": [
        "from sklearn.naive_bayes import MultinomialNB\n",
        "nb = MultinomialNB()\n",
        "from sklearn.naive_bayes import BernoulliNB\n",
        "bnb = BernoulliNB()\n",
        "from sklearn.tree import DecisionTreeClassifier\n",
        "dt = DecisionTreeClassifier()\n",
        "from sklearn.linear_model import SGDClassifier\n",
        "sgd = SGDClassifier(loss=\"log\")\n",
        "from sklearn.ensemble import RandomForestClassifier\n",
        "rf = RandomForestClassifier()\n",
        "from sklearn.ensemble import VotingClassifier\n",
        "model = VotingClassifier(estimators=[('MultinomialNB', nb), ('BernoulliNB', bnb), ('DecisionTreeClassifier', dt),\n",
        "                                              ('SGDClassifier', sgd), ('RandomForestClassifier', rf)], voting='soft')"
      ],
      "metadata": {
        "id": "yTsvPrQaDVyU"
      },
      "execution_count": null,
      "outputs": []
    },
    {
      "cell_type": "code",
      "source": [
        "from sklearn.model_selection import train_test_split\n",
        "from sklearn.metrics import classification_report\n",
        "\n",
        "xtrain, xtest, ytrain, ytest = train_test_split(bow_data, y, test_size=0.2)\n",
        "model.fit(xtrain, ytrain)\n",
        "ypred_ts = model.predict(xtest)\n",
        "print(\"Testing Results:\\n\")\n",
        "print(classification_report(ytest, ypred_ts, target_names=['FAKE', 'REAL']))"
      ],
      "metadata": {
        "colab": {
          "base_uri": "https://localhost:8080/"
        },
        "outputId": "8c277df5-fd8b-438b-b6ae-3ee42736d457",
        "id": "cqZhI8yCDVyU"
      },
      "execution_count": null,
      "outputs": [
        {
          "output_type": "stream",
          "name": "stdout",
          "text": [
            "Testing Results:\n",
            "\n",
            "              precision    recall  f1-score   support\n",
            "\n",
            "        FAKE       0.93      0.93      0.93       259\n",
            "        REAL       0.93      0.93      0.93       261\n",
            "\n",
            "    accuracy                           0.93       520\n",
            "   macro avg       0.93      0.93      0.93       520\n",
            "weighted avg       0.93      0.93      0.93       520\n",
            "\n"
          ]
        }
      ]
    },
    {
      "cell_type": "markdown",
      "source": [
        "confusion matrix"
      ],
      "metadata": {
        "id": "20P3_rGrpIYM"
      }
    },
    {
      "cell_type": "code",
      "source": [
        "from sklearn.metrics import confusion_matrix\n",
        "import seaborn as sns\n",
        "target_names=['FAKE', 'REAL']\n",
        "CM = confusion_matrix(ytest,ypred_ts)\n",
        "# drawing confusion matrix\n",
        "sns.heatmap(CM, center = True , annot=True, fmt=\"d\" ,cmap=\"Blues\", xticklabels=target_names, yticklabels=target_names)\n",
        "plt.show()"
      ],
      "metadata": {
        "colab": {
          "base_uri": "https://localhost:8080/",
          "height": 265
        },
        "id": "0lJu-JefpKCH",
        "outputId": "853ab6e2-dabb-4294-ca4f-7e3db4256e05"
      },
      "execution_count": null,
      "outputs": [
        {
          "output_type": "display_data",
          "data": {
            "text/plain": [
              "<Figure size 432x288 with 2 Axes>"
            ],
            "image/png": "[encoded data removed]"
          },
          "metadata": {
            "needs_background": "light"
          }
        }
      ]
    },
    {
      "cell_type": "code",
      "source": [
        "import joblib\n",
        "# Save the model as a pickle in a file\n",
        "joblib.dump(model, '/content/drive/MyDrive/news/bengali/bangla.pkl')"
      ],
      "metadata": {
        "colab": {
          "base_uri": "https://localhost:8080/"
        },
        "id": "obC9RO2VJSvr",
        "outputId": "eb89ec80-9132-470a-843d-6b1cb7bc6084"
      },
      "execution_count": null,
      "outputs": [
        {
          "output_type": "execute_result",
          "data": {
            "text/plain": [
              "['/content/drive/MyDrive/news/bengali/bangla.pkl']"
            ]
          },
          "metadata": {},
          "execution_count": 61
        }
      ]
    },
    {
      "cell_type": "markdown",
      "source": [
        "Prediction"
      ],
      "metadata": {
        "id": "zq-ZoQ1HDVyV"
      }
    },
    {
      "cell_type": "code",
      "source": [
        "tinput = 'আন্তর্জাতিক ডেস্ক আরটিএনএন কোপেহেগেন মসজিদের নিচের তলায় প্রবেশাধিকার সংরক্ষণ ইমামদের চুপচাপ থাকার নির্দেশ মূল ফটক দিয়ে প্রবেশে বাঁধা প্রাপ্ত হওয়া কারণে মুসলিম নারীরা মসজিদে পুরুষদের শাসিত হয়ে ধারণা বাস্তবতার প্রেক্ষিতে ডেনমার্কের কোপেনহেগন যুক্তরাষ্ট্রের লস এঞ্জেলস শহরে ইতিমধ্যেই গড়ে ওঠেছে শুধুমাত্র মুসলিম নারীদের ইবাদত মসজিদ বর্তমানে মুসলিম নারীরা উপাসনালয়ের অধিকার সোচ্চার ইতিহাস জুড়ে পুরুষ পরিচালিত হয়েছিলো ইউরোপে মুসলিম নারীদের মসজিদের প্রতিষ্ঠাতা শেরিন খানকান বার্তা সংস্থা রয়টার্সকে জানান দশকের দশকে পুরুষতান্ত্রিক মনোভাব গড়ে উঠেছে পাল্টানো সম্ভব ডেনমার্কের ব্যস্ততম বাজারে রাস্তার পাশেই মসজিদ গড়ে তুলেছেন সচরাচর চোখে পড়ে মসজিদটি নারীদের এরকম উদ্যোগে সৃষ্টির নীরবে বিপ্লব ঘটিয়ে চলেছে গত বছর ধরেই মসজিদটিতে নারী ইমাম নামাজে নেতৃত্ব দিয়ে আসছেন খানকান কুরআনের শিক্ষার বিরুদ্ধে পুরুষতান্ত্রিক মনোভাব পাল্টাতে নতুনভাবে চাই লিঙ্গ বৈষম্য দূর চাই সংস্কার ইসলামের মূল শিক্ষার চাই শেরিন খানকান এমনটি শেরিন খানকান আরো মসজিদে ১৫০ ইবাদতকারী নিয়মিত ইবাদত আসেন ডেনমার্কের মুসলিম নারী ধর্মীয় নেতৃবৃন্দের নিকট সহযোগিতা পেয়েছেন বলেও উল্লেখ নারীদের নিবেদিত স্থান মুসলিম নারীদের সংগঠন জানিয়েছে বর্তমান বিশ্বে নারী ইসলামী নেতৃত্বের বড়ই অভাব দেশের বেশীরভাগ মসজিদগুলো পুরুষদের নিয়ন্ত্রিত মুসলিম নারীদের মসজিদে প্রার্থনা করাটা কঠিন হয়ে দাঁড়ায় গত ১৫ বছর প্রচেষ্টার ফলাফল স্বরূপ শেরিন খানকানের মারিয়াম মসজিদই যুক্তরাষ্ট্রের লস এঞ্জেলস শহর জার্মানির বার্লিনে দুইটি মসজিদ প্রতিষ্ঠা হয়েছে শুক্রবার নারী পুরুষদের মসজিদে একত্রে নামায আদায় সুযোগ দিচ্ছে এমনকি যুক্তরাজ্যের ব্রেডফ্রোড শহরে দেশটির নারী নেতৃত্বাধীন মসজিদ প্রতিষ্ঠা ২০২০ সালের সম্পন্ন ধারণা জেনে দরকার চীনে শত বছর ধরেই শুধুমাত্র মুসলিম নারীদের আলাদা মসজিদ রয়েছে ঐতিহ্যগতভাবে মুসলিম নারীরা নেতৃত্ব দিয়ে যুক্তরাজ্যের ব্রেডফ্রোড শহরের মসজিদ প্রতিষ্ঠার অন্যতম উদ্যোক্তা বানা গোরা ব্রিটেন মুসলিম ওমেন স কাউন্সিলের পরিচালক সমাজে বিদ্যমান সমস্যাগুলো মুসলিম নারীরা অন্যের সাথে মত প্রকাশ কোথায় দরকার নিবেদিত স্থান মুসলিম নারীরা মত প্রকাশ পারবে কোথায়ও এরকম স্থান পাইনা আরো সেজন্যই নারীরা মসজিদে স্থান দেয়ার দাবী জানাচ্ছে এটাতে ভুল দেখছি নারীদের অন্তরীণ হয়েছে শেরিন খানকান মসজিদে নারীদের উপস্থিতি তাদেরকে অধিকার প্রতিষ্ঠিত হয়েছে অনুভূতি দেয় মসজিদে গুরুত্বপূর্ণ সমস্যার সমাধান আন্ত ধর্মীয় বিবাহ গৃহ সংঘাত আরো ডেনমার্কে বোরকা নিষিদ্ধ কারণে মুসলিম নারীদের নিরাপদ পৃথিবী সংকুচিত হয়ে ফ্রান্সসহ অন্যান্য ইউরোপীয় দেশের সাথে তাল মিলিয়ে ডেনমার্কের আইনসভা চলতি বছরের মে মাসে বোরকার নিষেধাজ্ঞা আরোপ দেশটির বিচার মন্ত্রী বোরকা নিষিদ্ধ ডেনমার্কের নারীদেরকে পরিবারের জোর চাপিয়ে দেয়া সিদ্ধান্ত মুক্তি দিয়েছেন দাবী শেরিন খানকান নারীদেরকে জোর বোরকা পরিধান করানো তাদেরকে অন্তরীণ সামিল অবশ্যই শুভ বিষয় বোরকা পরিধানকারীদের অপরাধীদের সাথে তুলনা নারীদেরকে আরো বেশী অন্তরীণ সামিল ইসলামের ভবিষ্যৎ শেরিন খানকান আশা ভবিষ্যতে মুসলিম নারীদের মধ্য ইসলামী বিশেষজ্ঞ ইমাম উঠে আসবেন মুসলিম নারীদের অধিকার প্রতিষ্ঠায় গুরুত্বপূর্ণ ভূমিকা রাখবেন দরকার নারীরাই ইসলামের ভবিষ্যৎ অবশ্যই নারীদের পুরুষদের মত সমান সুযোগ সৃষ্টি প্রসঙ্গত বেশীরভাগ ইসলামী বিশেষজ্ঞের মতে পবিত্র কুরআনে নারীদের নামাজে ইমামতি সরাসরি হয়নি বিশেষজ্ঞ নবী মুহাম্মদ সাঃ নারীদেরকে ইমামতি অনুমতি দিয়েছেন অন্যদিকে বেশীরভাগ বিশেষজ্ঞ নবী মুহাম্মদ সাঃ নারীদেরকে শুধুমাত্র গৃহে ইবাদত নির্দেশ দিয়েছেন এখনো ঐতিহ্যগত ইসলামী বিশেষজ্ঞ নারীরা নামায রত পুরুষদের কণ্ঠস্বর শোনা এডিনবার্গ বিশ্ববিদ্যালয়ের গিউলিয়া লিবারেটর নামের একজন অধ্যাপক মুসলিম নারী বিশেষজ্ঞদের গবেষণারত আছেন মুসলিম নারীদেরকে ক্ষমতা দেয়া প্রভাব ইতিবাচক নারীরা নারীদেরকে উচ্চ আসনে দেখবে ধারণা জন্মাবে তারাও একজন বিশেষজ্ঞ পারবেন গিউলিয়া লিবারেটর এমনটি জানান সূত্রঃ স্ক্রল ডট ইন'\n",
        "finput = 'পরিচিত কারো সাথে ডাক্তার মেয়ে বিয়ে দিয়েন পলাশ ভাই আমারে দেখেন ডাক্তার মেয়ে বিয়ে এক বিপদে আছি বিয়ের রাতে বাসর ঘরে ঢুকার পুরাই বেকুব বউয়ের কিসের ঘোমটা কিসের দেখি টেবিলে মোটা মোটা তিনটা বই বড়ো বড়ো চোখ পড়তাছে আমারে তিনদিন পরীক্ষা বিয়ের ঝামেলায় পড়তে ঠিকমতো আজকে সারারাত পরলে ফেইল সারারাত পড়ছে তাইলে মাঝখানে ভদ্রতা জিজ্জাসা করছি লাগবে ভদ্রতা গিয়া আরেক বিপদ আমারে এক ফ্লাস্ক চা এতো রাইতে চা পাই কই রাত তিনটায় শেরওয়ানি পড়ে কিচেনে ঢুকছি চা বানাইতে আল্লাহ্ বাঁচাইছে পরীক্ষার হয়ে আরো খারাপ হইছে পরীক্ষার পরই হইছে ইন্টার্নি রাতে ডিউটি যাও রাতে পাইতাম গেলো সারারাত ডিউটি দিয়া বাসায় আসার সারাদিন নাক ডাকাইয়া ভুস ভুস শব্দ কইরা ঘুমাইতো তাইলে রোমান্টিকতা পারো করছিলাম গভীর রাতে এসএমএস দিছি তোমারে পাইতে ইচ্ছা করতাছে বউ রিপ্লাই দিছে হাসপাতালে চইল্যা আসো করলা করমু একটা রিলাক্সিন খাইয়া শরীর রিলাক্স কইরা ঘুমাইয়া গেছি বউ ডাক্তার হওয়াতে একটা সুবিধা হইছে কখন ঔষধ খাইতে হইবো মোটামুটি শেষ একটা ছেলে হইছে কেমন হইছে মহাত্মা গান্ধীর পলাশ ভাই মহাত্মা গান্ধীরে প্যাম্পার পড়াইলে দেখাইবো লাগে ভালো কথা ভাবি ডাক্তার ডাক্তারি পড়ার শখ ছিলো কারণে পড়া আল্লাহ্ বড় বাঁচাইছে পলাশ ভাই ভাবিরে – আপনারে'\n",
        "input = clean_text(tinput)\n",
        "ben_vectorizer  = pickle.load(open(\"/content/drive/MyDrive/news/bengali/ben_vectorizer.p\",\"rb\"))\n",
        "bow_data = ben_vectorizer.transform([input]).toarray()\n",
        "features = ben_vectorizer.get_feature_names_out()\n",
        "bow_data = pd.DataFrame(bow_data, columns=features)\n",
        "weight_bengali = joblib.load('/content/drive/MyDrive/news/bengali/bangla.pkl')\n",
        "pred = weight_bengali.predict(bow_data)\n",
        "if pred[0] == 1:\n",
        "    print('REAL')\n",
        "else:\n",
        "    print('FAKE')"
      ],
      "metadata": {
        "colab": {
          "base_uri": "https://localhost:8080/"
        },
        "id": "E28XsQr-DVyV",
        "outputId": "4bf6b3d7-3f54-4b76-bda6-8986f4653e70"
      },
      "execution_count": 23,
      "outputs": [
        {
          "output_type": "stream",
          "name": "stdout",
          "text": [
            "REAL\n"
          ]
        }
      ]
    },
    {
      "cell_type": "markdown",
      "source": [
        "## Web"
      ],
      "metadata": {
        "id": "4u8IseKrGWEo"
      }
    },
    {
      "cell_type": "code",
      "source": [
        "!pip install pyngrok==5.2.1\n",
        "!pip install langdetect\n",
        "!pip install flask-ngrok\n",
        "!ngrok authtoken 24jMmkCh5Tr4hOZ9Dpg69QtTDSH_3n21SSxtBHr1F9QckcBzi"
      ],
      "metadata": {
        "id": "uiXcgP3IMJk7",
        "colab": {
          "base_uri": "https://localhost:8080/"
        },
        "outputId": "844e11a8-1fbe-436c-ce90-0b20699749ae"
      },
      "execution_count": 4,
      "outputs": [
        {
          "output_type": "stream",
          "name": "stdout",
          "text": [
            "Collecting pyngrok==5.2.1\n",
            "  Downloading pyngrok-5.2.1.tar.gz (761 kB)\n",
            "\u001b[2K     \u001b[90m━━━━━━━━━━━━━━━━━━━━━━━━━━━━━━━━━━━━━━━━\u001b[0m \u001b[32m761.3/761.3 kB\u001b[0m \u001b[31m5.4 MB/s\u001b[0m eta \u001b[36m0:00:00\u001b[0m\n",
            "\u001b[?25h  Preparing metadata (setup.py) ... \u001b[?25l\u001b[?25hdone\n",
            "Requirement already satisfied: PyYAML in /usr/local/lib/python3.10/dist-packages (from pyngrok==5.2.1) (6.0.1)\n",
            "Building wheels for collected packages: pyngrok\n",
            "  Building wheel for pyngrok (setup.py) ... \u001b[?25l\u001b[?25hdone\n",
            "  Created wheel for pyngrok: filename=pyngrok-5.2.1-py3-none-any.whl size=19772 sha256=986a466aecfba826bf7fae940ac0254f95bda3d68db2dc3a16fd1aafe0738771\n",
            "  Stored in directory: /root/.cache/pip/wheels/6c/e1/46/8d60711cb43fb2e055fb69bb9964f91c9a5046f7924d2996ac\n",
            "Successfully built pyngrok\n",
            "Installing collected packages: pyngrok\n",
            "Successfully installed pyngrok-5.2.1\n",
            "Collecting langdetect\n",
            "  Downloading langdetect-1.0.9.tar.gz (981 kB)\n",
            "\u001b[2K     \u001b[90m━━━━━━━━━━━━━━━━━━━━━━━━━━━━━━━━━━━━━━━━\u001b[0m \u001b[32m981.5/981.5 kB\u001b[0m \u001b[31m7.0 MB/s\u001b[0m eta \u001b[36m0:00:00\u001b[0m\n",
            "\u001b[?25h  Preparing metadata (setup.py) ... \u001b[?25l\u001b[?25hdone\n",
            "Requirement already satisfied: six in /usr/local/lib/python3.10/dist-packages (from langdetect) (1.16.0)\n",
            "Building wheels for collected packages: langdetect\n",
            "  Building wheel for langdetect (setup.py) ... \u001b[?25l\u001b[?25hdone\n",
            "  Created wheel for langdetect: filename=langdetect-1.0.9-py3-none-any.whl size=993225 sha256=29f3d68ac173d025a099298dc17fd5801f293f4e337d2f69bd374a197c79955c\n",
            "  Stored in directory: /root/.cache/pip/wheels/95/03/7d/59ea870c70ce4e5a370638b5462a7711ab78fba2f655d05106\n",
            "Successfully built langdetect\n",
            "Installing collected packages: langdetect\n",
            "Successfully installed langdetect-1.0.9\n",
            "Collecting flask-ngrok\n",
            "  Downloading flask_ngrok-0.0.25-py3-none-any.whl (3.1 kB)\n",
            "Requirement already satisfied: Flask>=0.8 in /usr/local/lib/python3.10/dist-packages (from flask-ngrok) (2.2.5)\n",
            "Requirement already satisfied: requests in /usr/local/lib/python3.10/dist-packages (from flask-ngrok) (2.31.0)\n",
            "Requirement already satisfied: Werkzeug>=2.2.2 in /usr/local/lib/python3.10/dist-packages (from Flask>=0.8->flask-ngrok) (3.0.1)\n",
            "Requirement already satisfied: Jinja2>=3.0 in /usr/local/lib/python3.10/dist-packages (from Flask>=0.8->flask-ngrok) (3.1.2)\n",
            "Requirement already satisfied: itsdangerous>=2.0 in /usr/local/lib/python3.10/dist-packages (from Flask>=0.8->flask-ngrok) (2.1.2)\n",
            "Requirement already satisfied: click>=8.0 in /usr/local/lib/python3.10/dist-packages (from Flask>=0.8->flask-ngrok) (8.1.7)\n",
            "Requirement already satisfied: charset-normalizer<4,>=2 in /usr/local/lib/python3.10/dist-packages (from requests->flask-ngrok) (3.3.2)\n",
            "Requirement already satisfied: idna<4,>=2.5 in /usr/local/lib/python3.10/dist-packages (from requests->flask-ngrok) (3.6)\n",
            "Requirement already satisfied: urllib3<3,>=1.21.1 in /usr/local/lib/python3.10/dist-packages (from requests->flask-ngrok) (2.0.7)\n",
            "Requirement already satisfied: certifi>=2017.4.17 in /usr/local/lib/python3.10/dist-packages (from requests->flask-ngrok) (2023.11.17)\n",
            "Requirement already satisfied: MarkupSafe>=2.0 in /usr/local/lib/python3.10/dist-packages (from Jinja2>=3.0->Flask>=0.8->flask-ngrok) (2.1.3)\n",
            "Installing collected packages: flask-ngrok\n",
            "Successfully installed flask-ngrok-0.0.25\n",
            "Authtoken saved to configuration file: /root/.ngrok2/ngrok.yml\n"
          ]
        }
      ]
    },
    {
      "cell_type": "code",
      "source": [
        "import collections\n",
        "collections.Iterable = collections.abc.Iterable"
      ],
      "metadata": {
        "id": "OXEDtWY6bPL0"
      },
      "execution_count": 5,
      "outputs": []
    },
    {
      "cell_type": "code",
      "source": [
        "from flask_ngrok import run_with_ngrok\n",
        "from flask import Flask\n",
        "from flask import app,request, render_template\n",
        "import json\n",
        "import sys\n",
        "from flask import jsonify\n",
        "# import requests\n",
        "from datetime import datetime\n",
        "from base64 import b64decode\n",
        "from langdetect import detect\n",
        "\n",
        "app = Flask(__name__)\n",
        "run_with_ngrok(app)   #starts ngrok when the app is run\n",
        "@app.route('/')\n",
        "def index():\n",
        "    return render_template(\"index.html\")\n",
        "\n",
        "@app.route('/',methods=['POST'])\n",
        "def pre():\n",
        "    if request.method == 'POST':\n",
        "        txt = request.form['txt']\n",
        "        lang = detect(str(txt))\n",
        "        if lang == 'en':\n",
        "            txt = str(txt)\n",
        "            txt = process(txt)\n",
        "            txt = \" \".join(txt)\n",
        "            eng_vec = pickle.load(open('/content/drive/MyDrive/news/english/eng_vec.pkl', 'rb'))\n",
        "            txt = eng_vec.transform([txt]).toarray()\n",
        "            features = eng_vec.get_feature_names_out()\n",
        "            txt = pd.DataFrame(txt, columns=features)\n",
        "            model = joblib.load('/content/drive/MyDrive/news/english/english.pkl')\n",
        "            pred = model.predict(txt)\n",
        "            # print(pred)\n",
        "            return render_template(\"index.html\", result = pred[0])\n",
        "        elif lang== 'bn':\n",
        "            txt = clean_text(txt)\n",
        "            ben_vectorizer  = pickle.load(open(\"/content/drive/MyDrive/news/bengali/ben_vectorizer.p\",\"rb\"))\n",
        "            bow_data = ben_vectorizer.transform([txt]).toarray()\n",
        "            features = ben_vectorizer.get_feature_names_out()\n",
        "            bow_data = pd.DataFrame(bow_data, columns=features)\n",
        "            model = joblib.load('/content/drive/MyDrive/news/bengali/bangla.pkl')\n",
        "            pred = model.predict(bow_data)\n",
        "            return render_template(\"index.html\", result = pred[0])\n",
        "        elif lang == 'hi':\n",
        "            hin_vec = pickle.load(open(\"/content/drive/MyDrive/news/hindi/hind_vec.p\",\"rb\"))\n",
        "            bow_data = hin_vec.transform([txt]).toarray()\n",
        "            features = hin_vec.get_feature_names_out()\n",
        "            bow_data = pd.DataFrame(bow_data, columns=features)\n",
        "            model = joblib.load('/content/drive/MyDrive/news/hindi/hindi.pkl')\n",
        "            pred = model.predict(bow_data)\n",
        "            return render_template(\"index.html\", result = pred[0])\n",
        "\n",
        "if __name__ == '__main__':\n",
        "    app.run()"
      ],
      "metadata": {
        "id": "4bPRCtzI8XDn",
        "colab": {
          "base_uri": "https://localhost:8080/"
        },
        "outputId": "90e9b593-2254-4663-b1e0-fc234627cc92"
      },
      "execution_count": null,
      "outputs": [
        {
          "output_type": "stream",
          "name": "stdout",
          "text": [
            " * Serving Flask app '__main__'\n",
            " * Debug mode: off\n"
          ]
        },
        {
          "output_type": "stream",
          "name": "stderr",
          "text": [
            "INFO:werkzeug:\u001b[31m\u001b[1mWARNING: This is a development server. Do not use it in a production deployment. Use a production WSGI server instead.\u001b[0m\n",
            " * Running on http://127.0.0.1:5000\n",
            "INFO:werkzeug:\u001b[33mPress CTRL+C to quit\u001b[0m\n"
          ]
        },
        {
          "output_type": "stream",
          "name": "stdout",
          "text": [
            " * Running on http://0a9c-104-196-196-13.ngrok-free.app\n",
            " * Traffic stats available on http://127.0.0.1:4040\n"
          ]
        },
        {
          "output_type": "stream",
          "name": "stderr",
          "text": [
            "INFO:werkzeug:127.0.0.1 - - [13/Jan/2024 11:20:27] \"GET / HTTP/1.1\" 200 -\n",
            "INFO:werkzeug:127.0.0.1 - - [13/Jan/2024 11:20:28] \"\u001b[33mGET /favicon.ico HTTP/1.1\u001b[0m\" 404 -\n",
            "INFO:werkzeug:127.0.0.1 - - [13/Jan/2024 11:20:37] \"POST / HTTP/1.1\" 200 -\n",
            "INFO:werkzeug:127.0.0.1 - - [13/Jan/2024 11:20:59] \"POST / HTTP/1.1\" 200 -\n"
          ]
        }
      ]
    }
  ]
}